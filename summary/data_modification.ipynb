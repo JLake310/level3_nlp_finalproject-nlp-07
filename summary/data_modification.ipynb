{
 "cells": [
  {
   "cell_type": "markdown",
   "id": "d81325d2-3cc1-486f-957d-3bb5df2c3814",
   "metadata": {},
   "source": [
    "# 리뷰데이터 가져와서 instruction 추가\n",
    "\n",
    "https://docs.google.com/spreadsheets/d/1i-Hbt2FdvZNpe5-aLYQqGICjz_R6hmaHMvhlRBqALY8/edit#gid=677920574"
   ]
  },
  {
   "cell_type": "code",
   "execution_count": 3,
   "id": "3ec1d3ea-e543-41bc-8925-6a66cdbbcd4f",
   "metadata": {},
   "outputs": [],
   "source": [
    "import pandas as pd"
   ]
  },
  {
   "cell_type": "code",
   "execution_count": 4,
   "id": "ac791222-bae4-4c84-a226-3316fc4cca13",
   "metadata": {},
   "outputs": [],
   "source": [
    "inst = pd.read_csv('./data/review summary prototype dataset - v3.0.csv') #시트마다 colname확인 주의"
   ]
  },
  {
   "cell_type": "code",
   "execution_count": 5,
   "id": "3b2c352d-8114-414a-941c-5bc78b747cb9",
   "metadata": {},
   "outputs": [
    {
     "data": {
      "text/html": [
       "<div>\n",
       "<style scoped>\n",
       "    .dataframe tbody tr th:only-of-type {\n",
       "        vertical-align: middle;\n",
       "    }\n",
       "\n",
       "    .dataframe tbody tr th {\n",
       "        vertical-align: top;\n",
       "    }\n",
       "\n",
       "    .dataframe thead th {\n",
       "        text-align: right;\n",
       "    }\n",
       "</style>\n",
       "<table border=\"1\" class=\"dataframe\">\n",
       "  <thead>\n",
       "    <tr style=\"text-align: right;\">\n",
       "      <th></th>\n",
       "      <th>prod_id</th>\n",
       "      <th>search_name</th>\n",
       "      <th>prod_name</th>\n",
       "      <th>context</th>\n",
       "      <th>filtered_context</th>\n",
       "      <th>summary</th>\n",
       "      <th>filter_score</th>\n",
       "    </tr>\n",
       "  </thead>\n",
       "  <tbody>\n",
       "    <tr>\n",
       "      <th>0</th>\n",
       "      <td>3</td>\n",
       "      <td>쌀</td>\n",
       "      <td>쌀 곰곰 소중한 우리 쌀 2022년산, 4kg(상등급), 1개</td>\n",
       "      <td>2인 맞벌이 가구라서 평소 집에서 밥해 먹을 일이 많이 없어서 큰 쌀 사기 부담스러...</td>\n",
       "      <td>2인 맞벌이 가구라서 평소 집에서 밥해 먹을 일이 많이 없어서 큰 쌀 사기 부담스러...</td>\n",
       "      <td>&lt;품질&gt; 깨끗한 백미로 도정한 신선하고 맛있는 쌀. 2kg 용량으로 가성비 좋고 변...</td>\n",
       "      <td>45.813827</td>\n",
       "    </tr>\n",
       "  </tbody>\n",
       "</table>\n",
       "</div>"
      ],
      "text/plain": [
       "   prod_id search_name                           prod_name  \\\n",
       "0        3           쌀  쌀 곰곰 소중한 우리 쌀 2022년산, 4kg(상등급), 1개   \n",
       "\n",
       "                                             context  \\\n",
       "0  2인 맞벌이 가구라서 평소 집에서 밥해 먹을 일이 많이 없어서 큰 쌀 사기 부담스러...   \n",
       "\n",
       "                                    filtered_context  \\\n",
       "0  2인 맞벌이 가구라서 평소 집에서 밥해 먹을 일이 많이 없어서 큰 쌀 사기 부담스러...   \n",
       "\n",
       "                                             summary  filter_score  \n",
       "0  <품질> 깨끗한 백미로 도정한 신선하고 맛있는 쌀. 2kg 용량으로 가성비 좋고 변...     45.813827  "
      ]
     },
     "execution_count": 5,
     "metadata": {},
     "output_type": "execute_result"
    }
   ],
   "source": [
    "inst.head(1)"
   ]
  },
  {
   "cell_type": "code",
   "execution_count": 6,
   "id": "174aed2e-3a39-4afc-bf2c-c9ba97e61fb8",
   "metadata": {},
   "outputs": [],
   "source": [
    "inst['instruction'] = ''\n",
    "for i in range(len(inst)):\n",
    "    inst.loc[i,'instruction'] = '다음의 '+inst.loc[i,'search_name']+'에 대한 리뷰를 <특성> 세부설명 형식으로 요약하세요'"
   ]
  },
  {
   "cell_type": "code",
   "execution_count": 31,
   "id": "700454b6-108e-4efe-a767-8f166f72cb18",
   "metadata": {},
   "outputs": [],
   "source": [
    "inst.to_csv('./data/train_final.csv')"
   ]
  }
 ],
 "metadata": {
  "kernelspec": {
   "display_name": "Python 3 (ipykernel)",
   "language": "python",
   "name": "python3"
  },
  "language_info": {
   "codemirror_mode": {
    "name": "ipython",
    "version": 3
   },
   "file_extension": ".py",
   "mimetype": "text/x-python",
   "name": "python",
   "nbconvert_exporter": "python",
   "pygments_lexer": "ipython3",
   "version": "3.8.5"
  }
 },
 "nbformat": 4,
 "nbformat_minor": 5
}
