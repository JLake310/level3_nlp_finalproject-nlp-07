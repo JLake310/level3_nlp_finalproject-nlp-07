{
 "cells": [
  {
   "cell_type": "code",
   "execution_count": 1,
   "metadata": {},
   "outputs": [],
   "source": [
    "import pandas as pd\n",
    "import re\n",
    "from transformers import AutoTokenizer\n",
    "from sklearn.feature_extraction.text import TfidfVectorizer\n",
    "import pandas as pd\n",
    "import string\n",
    "from sklearn.cluster import KMeans\n",
    "from collections import defaultdict\n",
    "from kiwipiepy import Kiwi"
   ]
  },
  {
   "cell_type": "markdown",
   "metadata": {},
   "source": [
    "## 토크나이저 정의"
   ]
  },
  {
   "cell_type": "code",
   "execution_count": 2,
   "metadata": {},
   "outputs": [],
   "source": [
    "tokenizer = AutoTokenizer.from_pretrained('monologg/koelectra-small-v3-discriminator')\n",
    "# tokenizer = AutoTokenizer.from_pretrained('klue/bert-base')"
   ]
  },
  {
   "cell_type": "markdown",
   "metadata": {},
   "source": [
    "## 리뷰 불러오기 & 전처리"
   ]
  },
  {
   "cell_type": "code",
   "execution_count": 5,
   "metadata": {},
   "outputs": [],
   "source": [
    "def clean_text(sent, remove_tag = True):\n",
    "    \"\"\"\n",
    "    특수 문자, 문장 부호, 조건 태그 제거\n",
    "    \"\"\"\n",
    "    if remove_tag:\n",
    "        sent = re.sub(\"[^가-힣ㄱ-ㅎㅏ-ㅣ\\\\s0-9a-zA-Z]\", \" \", sent)\n",
    "    else:\n",
    "        sent = re.sub(\"[^가-힣ㄱ-ㅎㅏ-ㅣ\\\\s0-9a-zA-Z<>]\", \" \", sent)\n",
    "    sent = re.sub(\"[ㄱ-ㅎㅏ-ㅣ]+\", \"\", sent) # 초성체 제거\n",
    "    sent = \" \".join(sent.split()) # 공백 최소화\n",
    "    sent = sent.strip()\n",
    "    return sent"
   ]
  },
  {
   "cell_type": "code",
   "execution_count": 17,
   "metadata": {},
   "outputs": [
    {
     "data": {
      "text/plain": [
       "200"
      ]
     },
     "execution_count": 17,
     "metadata": {},
     "output_type": "execute_result"
    }
   ],
   "source": [
    "reviews = pd.read_csv(\"/opt/ml/input/data/reviews_ver2_1.csv\")[\"context\"]\n",
    "reviews = [clean_text(text) for text in reviews]\n",
    "len(reviews)"
   ]
  },
  {
   "cell_type": "code",
   "execution_count": null,
   "metadata": {},
   "outputs": [],
   "source": [
    "reviews = pd.read_csv(\"./review_떡볶이_ver2.1.csv\")['review_content']\n",
    "\n",
    "reviews = [re.sub(r\"<[^>]+>\\s+(?=<)|<[^>]+>\", \"\", text) for text in reviews]\n",
    "reviews = [re.sub(r\"[^가-힣a-zA-Z0-9\\n\\s]\", \"\", text) for text in reviews]\n",
    "\n",
    "reviews = pd.read_csv(\"./review_떡볶이_ver2_pre.csv\")['review_content']\n",
    "reviews = [re.sub(r\"<[^>]+>\\s+(?=<)|<[^>]+>\", \"\", text) for text in reviews]\n",
    "reviews = [re.sub(r\"[^가-힣a-zA-Z0-9\\n\\s]\", \"\", text).strip() for text in reviews]"
   ]
  },
  {
   "cell_type": "code",
   "execution_count": 18,
   "metadata": {},
   "outputs": [],
   "source": [
    "def filter_corpus(corpus):\n",
    "    corpus = [text for text in corpus if text.find(\"배송\") == -1]\n",
    "    corpus = [text for text in corpus if text.find(\"도움\") == -1]\n",
    "    corpus = [text for text in corpus if len(text) > 10]\n",
    "    corpus = [text for text in corpus if len(text) < 200]\n",
    "    corpus = [text for text in corpus if text.find(\"년\") == -1]\n",
    "    corpus = [text for text in corpus if text.find(\"ml\") == -1]\n",
    "    corpus = [text for text in corpus if text.find(\"날짜\") == -1]\n",
    "    corpus = [text for text in corpus if text.find(\"22\") == -1]\n",
    "    corpus = [text for text in corpus if text.find(\"23\") == -1]\n",
    "    corpus = [text for text in corpus if text.find(\"기한\") == -1]\n",
    "    corpus = [text for text in corpus if text.find(\"미리\") == -1]\n",
    "    corpus = [text for text in corpus if text.find(\"감사\") == -1]\n",
    "    return corpus"
   ]
  },
  {
   "cell_type": "markdown",
   "metadata": {},
   "source": [
    "## 문장 단위로 분리하기"
   ]
  },
  {
   "cell_type": "code",
   "execution_count": 26,
   "metadata": {},
   "outputs": [],
   "source": [
    "kiwi = Kiwi()\n",
    "\n",
    "split_texts = []\n",
    "for review in reviews:\n",
    "    sents = kiwi.split_into_sents(review)\n",
    "    sents = [sent.text for sent in sents]\n",
    "    split_texts.append(sents)\n",
    "\n",
    "corpus = []\n",
    "for idx, text in enumerate(split_texts):\n",
    "    for t in text:\n",
    "        corpus.append(str(idx) + \" \" + t)\n",
    "\n",
    "pre_len = len(corpus)\n",
    "corpus = filter_corpus(corpus)"
   ]
  },
  {
   "cell_type": "markdown",
   "metadata": {},
   "source": [
    "## 클러스터링 진행하기"
   ]
  },
  {
   "cell_type": "code",
   "execution_count": 27,
   "metadata": {},
   "outputs": [
    {
     "name": "stderr",
     "output_type": "stream",
     "text": [
      "/opt/conda/envs/mrc/lib/python3.8/site-packages/sklearn/feature_extraction/text.py:528: UserWarning: The parameter 'token_pattern' will not be used since 'tokenizer' is not None'\n",
      "  warnings.warn(\n",
      "/opt/conda/envs/mrc/lib/python3.8/site-packages/sklearn/cluster/_kmeans.py:870: FutureWarning: The default value of `n_init` will change from 10 to 'auto' in 1.4. Set the value of `n_init` explicitly to suppress the warning\n",
      "  warnings.warn(\n",
      "/opt/conda/envs/mrc/lib/python3.8/site-packages/sklearn/cluster/_kmeans.py:1362: RuntimeWarning: Explicit initial center position passed: performing only one init in KMeans instead of n_init=10.\n",
      "  super()._check_params_vs_input(X, default_n_init=10)\n"
     ]
    }
   ],
   "source": [
    "text_id = 1\n",
    "clusters = [\"평가\", \"조리\"]\n",
    "# data = clusters + filter_corpus(split_texts[text_id])\n",
    "data = clusters + corpus\n",
    "n = len(clusters)\n",
    "\n",
    "# Vectorizer\n",
    "remove_punct_dict = dict((ord(punct), None) for punct in string.punctuation)\n",
    "tokenizer_func = lambda x: tokenizer.tokenize(x.translate(remove_punct_dict))\n",
    "vectorizer = TfidfVectorizer(tokenizer=tokenizer_func, ngram_range=(1,2))\n",
    "\n",
    "# Feature vectorize\n",
    "feature_vect = vectorizer.fit_transform(data)\n",
    "\n",
    "# 임의 클러스터로 클러스터 진행\n",
    "km_cluster = KMeans(n_clusters=n, max_iter=10000, random_state=0)\n",
    "km_cluster.fit(feature_vect[:n])\n",
    "\n",
    "# 임의 클러스터로 새로운 클러스터링 초기화\n",
    "kmeans_new = KMeans(init=km_cluster.cluster_centers_, n_clusters=n)\n",
    "kmeans_new.fit(feature_vect[n:])\n",
    "\n",
    "result = [[] for _ in range(n)]\n",
    "for idx, label in enumerate(km_cluster.labels_):\n",
    "    result[label].append(clusters[idx])\n",
    "\n",
    "for idx, label in enumerate(kmeans_new.labels_):\n",
    "    result[label].append(data[idx+n])\n",
    "\n",
    "result_dict = {}\n",
    "for r in result:\n",
    "    r_dict = defaultdict(list)\n",
    "    for text in r[1:]:\n",
    "        index = text.split(\" \")[0]\n",
    "        t =\" \".join(text.split(\" \")[1:])\n",
    "        r_dict[index].append(t)\n",
    "    # result_dict[r[0]] = r[1:]\n",
    "    result_dict[r[0]] = dict(r_dict)"
   ]
  },
  {
   "cell_type": "markdown",
   "metadata": {},
   "source": [
    "## 클러스터별 + 리뷰별로 분리하기"
   ]
  },
  {
   "cell_type": "code",
   "execution_count": 32,
   "metadata": {},
   "outputs": [
    {
     "name": "stdout",
     "output_type": "stream",
     "text": [
      "1571 -> 1210, 삭제 개수: 361, 압축 비율:  22.98%\n"
     ]
    },
    {
     "data": {
      "text/plain": [
       "1.2983471074380166"
      ]
     },
     "execution_count": 32,
     "metadata": {},
     "output_type": "execute_result"
    }
   ],
   "source": [
    "def compress_score(before_len, after_len):\n",
    "    print(f\"{before_len} -> {after_len}, 삭제 개수: {before_len - after_len}, 압축 비율: {(1 - after_len/before_len)*100: .02f}%\")\n",
    "    return before_len / after_len\n",
    "\n",
    "cur_len = sum([len(sents) for sents in result_dict[\"평가\"].values()])\n",
    "compress_score(pre_len, cur_len)"
   ]
  },
  {
   "cell_type": "code",
   "execution_count": 21,
   "metadata": {},
   "outputs": [],
   "source": [
    "filtered_text = [[] for _ in range(len(split_texts))]\n",
    "\n",
    "for idx in result_dict[\"평가\"]:\n",
    "    filtered_text[int(idx)].extend(result_dict[\"평가\"][idx])\n",
    "\n",
    "text_list = [ \". \".join(text) for text in filtered_text ]"
   ]
  },
  {
   "cell_type": "markdown",
   "metadata": {},
   "source": [
    "## 상품별로 리뷰 분리하기"
   ]
  },
  {
   "cell_type": "code",
   "execution_count": 22,
   "metadata": {},
   "outputs": [],
   "source": [
    "filtered_reviews = []\n",
    "for i in range(10):\n",
    "    filtered_reviews.append(\" \".join(text_list[i * 20:i * 20 + 20]))"
   ]
  },
  {
   "cell_type": "markdown",
   "metadata": {},
   "source": [
    "## 상품별 리뷰 Document 길이 확인하기"
   ]
  },
  {
   "cell_type": "code",
   "execution_count": 24,
   "metadata": {},
   "outputs": [
    {
     "name": "stdout",
     "output_type": "stream",
     "text": [
      "Orinigal text length: [5459, 6334, 5376, 4733, 3508, 4579, 4813, 4655, 3609, 5376]\n",
      "Filtered text lengths: [3383, 4039, 3773, 4079, 3005, 4081, 3347, 4097, 2944, 3788]\n"
     ]
    }
   ],
   "source": [
    "print(f\"Orinigal text length: {[sum([len(re.sub(' ', '', k)) for k in reviews][i * 20: i * 20 + 20]) for i in range(10)]}\")\n",
    "print(f\"Filtered text lengths: {[len(re.sub(' ', '', k)) for k in filtered_reviews]}\")"
   ]
  },
  {
   "cell_type": "code",
   "execution_count": 25,
   "metadata": {},
   "outputs": [
    {
     "name": "stdout",
     "output_type": "stream",
     "text": [
      "65613 -> 49242, 삭제 개수: 16371, 압축 비율:  24.95%\n",
      "1.3324600950408187\n",
      "7417 -> 4570, 삭제 개수: 2847, 압축 비율:  38.38%\n",
      "1.6229759299781181\n",
      "8571 -> 5449, 삭제 개수: 3122, 압축 비율:  36.43%\n",
      "1.5729491649844007\n",
      "7232 -> 5046, 삭제 개수: 2186, 압축 비율:  30.23%\n",
      "1.433214427269124\n",
      "6386 -> 5475, 삭제 개수: 911, 압축 비율:  14.27%\n",
      "1.1663926940639269\n",
      "4760 -> 4067, 삭제 개수: 693, 압축 비율:  14.56%\n",
      "1.1703958691910499\n",
      "6222 -> 5520, 삭제 개수: 702, 압축 비율:  11.28%\n",
      "1.1271739130434784\n",
      "6581 -> 4547, 삭제 개수: 2034, 압축 비율:  30.91%\n",
      "1.4473279085111062\n",
      "6332 -> 5542, 삭제 개수: 790, 압축 비율:  12.48%\n",
      "1.1425478166726812\n",
      "4880 -> 3962, 삭제 개수: 918, 압축 비율:  18.81%\n",
      "1.231701161029783\n",
      "7232 -> 5064, 삭제 개수: 2168, 압축 비율:  29.98%\n",
      "1.4281200631911533\n"
     ]
    }
   ],
   "source": []
  },
  {
   "cell_type": "code",
   "execution_count": null,
   "metadata": {},
   "outputs": [],
   "source": []
  }
 ],
 "metadata": {
  "kernelspec": {
   "display_name": "torch-env2",
   "language": "python",
   "name": "python3"
  },
  "language_info": {
   "codemirror_mode": {
    "name": "ipython",
    "version": 3
   },
   "file_extension": ".py",
   "mimetype": "text/x-python",
   "name": "python",
   "nbconvert_exporter": "python",
   "pygments_lexer": "ipython3",
   "version": "3.8.5"
  },
  "orig_nbformat": 4
 },
 "nbformat": 4,
 "nbformat_minor": 2
}
