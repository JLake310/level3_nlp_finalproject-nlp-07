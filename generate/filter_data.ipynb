{
 "cells": [
  {
   "cell_type": "markdown",
   "metadata": {},
   "source": [
    "# 데이터 중복 제거"
   ]
  },
  {
   "cell_type": "code",
   "execution_count": 134,
   "metadata": {},
   "outputs": [
    {
     "data": {
      "text/plain": [
       "9572"
      ]
     },
     "execution_count": 134,
     "metadata": {},
     "output_type": "execute_result"
    }
   ],
   "source": [
    "import json\n",
    "INPUT_PATH = \"/opt/ml/input/data/v3.5/summary_v3.5_1500.json\"\n",
    "OUTPUT_PATH = \"/opt/ml/input/data/v3.5/summary_v3.5_1500_train.json\"\n",
    "with open(INPUT_PATH, \"r\") as f:\n",
    "    data = json.load(f)\n",
    "len(data)"
   ]
  },
  {
   "cell_type": "markdown",
   "metadata": {},
   "source": [
    "## 테스트 데이터셋 및 특정 상품 제거"
   ]
  },
  {
   "cell_type": "code",
   "execution_count": 136,
   "metadata": {},
   "outputs": [],
   "source": [
    "# 테스트 데이터셋 말고도 제거하고 싶은 상품명\n",
    "extra_prod_name = []"
   ]
  },
  {
   "cell_type": "code",
   "execution_count": 137,
   "metadata": {},
   "outputs": [
    {
     "name": "stdout",
     "output_type": "stream",
     "text": [
      "테스트 상품명 개수: 50\n",
      "추가로 삭제할 상품명 포함해서 삭제할 개수 (테스트 상품명과 중복 제거): 50\n"
     ]
    }
   ],
   "source": [
    "# 테스트 데이터셋의 상품명\n",
    "\n",
    "import pandas as pd\n",
    "test_df = pd.read_csv(\"/opt/ml/input/data/test_data.csv\")\n",
    "\n",
    "test_prod_name = set(test_df[\"prod_name\"].tolist())\n",
    "print(\"테스트 상품명 개수:\", len(test_prod_name))\n",
    "\n",
    "test_prod_name.update(extra_prod_name)\n",
    "print(\"추가로 삭제할 상품명 포함해서 삭제할 개수 (테스트 상품명과 중복 제거):\", len(test_prod_name))"
   ]
  },
  {
   "cell_type": "code",
   "execution_count": 138,
   "metadata": {},
   "outputs": [
    {
     "name": "stdout",
     "output_type": "stream",
     "text": [
      "9572 -> 9354 : 218 삭제\n",
      "삭제된 상품명 개수: 82\n"
     ]
    }
   ],
   "source": [
    "# 테스트 데이터와 리뷰가 같은 학습 데이터 제거\n",
    "\n",
    "deleted_prod_name = set()\n",
    "\n",
    "test_reviews = dict() # 테스트 데이터의 리뷰\n",
    "for idx, item in enumerate(data):\n",
    "    if item[\"prod_name\"] in test_prod_name: # 학습 데이터 상품명이 테스트 데이터셋에 있으면\n",
    "        test_reviews[item[\"review\"]] = []\n",
    "\n",
    "train_data = []\n",
    "\n",
    "for idx, item in enumerate(data):\n",
    "    if item[\"review\"] in test_reviews: # 학습 데이터 리뷰가 테스트 데이터 리뷰와 같으면\n",
    "        test_reviews[item[\"review\"]].append(idx)\n",
    "        deleted_prod_name.add(item[\"prod_name\"])\n",
    "    else:\n",
    "        train_data.append(item)\n",
    "\n",
    "print(f\"{len(data)} -> {len(train_data)} : {len(data) - len(train_data)} 삭제\")\n",
    "print(\"삭제된 상품명 개수:\", len(deleted_prod_name))\n",
    "# print(\"삭제된 상품명:\")\n",
    "# print(sorted(list(deleted_prod_name)))"
   ]
  },
  {
   "cell_type": "markdown",
   "metadata": {},
   "source": [
    "## 중복 학습 데이터 삭제 (리뷰 같은 것)"
   ]
  },
  {
   "cell_type": "code",
   "execution_count": 150,
   "metadata": {},
   "outputs": [
    {
     "name": "stdout",
     "output_type": "stream",
     "text": [
      "9354 -> 6033 : 3321 중복\n"
     ]
    }
   ],
   "source": [
    "from collections import defaultdict\n",
    "\n",
    "train_reviews = defaultdict(list)\n",
    "\n",
    "filtered_train_data = []\n",
    "\n",
    "for idx, item in enumerate(train_data):\n",
    "    train_reviews[item[\"review\"]].append(idx)\n",
    "    if len(train_reviews[item[\"review\"]]) > 1: # 리뷰 중복\n",
    "        continue\n",
    "    \n",
    "    filtered_train_data.append(item)\n",
    "\n",
    "print(f\"{len(train_data)} -> {len(filtered_train_data)} : {len(train_data) - len(filtered_train_data)} 중복\")       "
   ]
  },
  {
   "cell_type": "markdown",
   "metadata": {},
   "source": [
    "## 요약문 없는 데이터 제거"
   ]
  },
  {
   "cell_type": "code",
   "execution_count": 151,
   "metadata": {},
   "outputs": [
    {
     "name": "stdout",
     "output_type": "stream",
     "text": [
      "요약문 없어서 삭제된 데이터 개수: 968\n",
      "남은 데이터 개수: 5065\n"
     ]
    }
   ],
   "source": [
    "before_len = len(filtered_train_data)\n",
    "filtered_train_data = [item for item in filtered_train_data if isinstance(item[\"summary\"], str) and len(item[\"summary\"]) > 0]\n",
    "after_len = len(filtered_train_data)\n",
    "print(\"요약문 없어서 삭제된 데이터 개수:\", before_len - after_len)\n",
    "print(\"남은 데이터 개수:\", after_len)"
   ]
  },
  {
   "cell_type": "code",
   "execution_count": 142,
   "metadata": {},
   "outputs": [
    {
     "name": "stdout",
     "output_type": "stream",
     "text": [
      "Saved at: /opt/ml/input/data/v3.5/summary_v3.5_1500_train.json\n"
     ]
    }
   ],
   "source": [
    "print(\"Saved at:\", OUTPUT_PATH)\n",
    "with open(OUTPUT_PATH, \"w\") as f:\n",
    "    json.dump(filtered_train_data, f, ensure_ascii=False)"
   ]
  },
  {
   "cell_type": "markdown",
   "metadata": {},
   "source": [
    "# 데이터셋 확인"
   ]
  },
  {
   "cell_type": "markdown",
   "metadata": {},
   "source": [
    "## 중복 리뷰 필터링 잘 됐는지 확인"
   ]
  },
  {
   "cell_type": "code",
   "execution_count": 152,
   "metadata": {},
   "outputs": [
    {
     "name": "stdout",
     "output_type": "stream",
     "text": [
      "데이터 개수: 5065\n",
      "요약문 없는 개수: 0\n",
      "중복 요약문 개수: 0\n"
     ]
    }
   ],
   "source": [
    "with open(OUTPUT_PATH, \"r\") as f:\n",
    "    data = json.load(f)\n",
    "    \n",
    "print(\"데이터 개수:\", len(data))\n",
    "print(\"요약문 없는 개수:\", len([0 for item in data if len(item[\"summary\"]) == 0]))\n",
    "\n",
    "unique_reviews = set()\n",
    "\n",
    "for idx, item in enumerate(data):\n",
    "    unique_reviews.add(item[\"review\"])\n",
    "\n",
    "print(\"중복 요약문 개수:\", len(data) - len(unique_reviews))"
   ]
  },
  {
   "cell_type": "markdown",
   "metadata": {},
   "source": [
    "## 데이터셋 길이 확인"
   ]
  },
  {
   "cell_type": "code",
   "execution_count": 144,
   "metadata": {},
   "outputs": [
    {
     "data": {
      "text/plain": [
       "dict_keys(['id', 'prod_name', 'review', 'summary', 'review_no_space_length', 'review_tokens'])"
      ]
     },
     "execution_count": 144,
     "metadata": {},
     "output_type": "execute_result"
    }
   ],
   "source": [
    "data[0].keys()"
   ]
  },
  {
   "cell_type": "code",
   "execution_count": 145,
   "metadata": {},
   "outputs": [
    {
     "name": "stdout",
     "output_type": "stream",
     "text": [
      "336 1256 917.4076999012833\n"
     ]
    }
   ],
   "source": [
    "len_list = []\n",
    "for item in data:\n",
    "    len_list.append(item[\"review_no_space_length\"])\n",
    "len_list.sort()\n",
    "print(len_list[0], len_list[-1], sum(len_list) / len(len_list))"
   ]
  },
  {
   "cell_type": "code",
   "execution_count": 146,
   "metadata": {},
   "outputs": [
    {
     "data": {
      "image/png": "[encoded data removed]",
      "text/plain": [
       "<Figure size 800x800 with 1 Axes>"
      ]
     },
     "metadata": {},
     "output_type": "display_data"
    }
   ],
   "source": [
    "import matplotlib.pyplot as plt\n",
    "\n",
    "left = min(len_list)\n",
    "left = left // 100 * 100\n",
    "right = max(len_list)\n",
    "right = (right // 100 + 1) * 100\n",
    "\n",
    "bins = range(left, right, 100)\n",
    "\n",
    "plt.figure(figsize=(8,8))\n",
    "\n",
    "plt.hist(len_list, bins)\n",
    "plt.show()"
   ]
  }
 ],
 "metadata": {
  "kernelspec": {
   "display_name": "common",
   "language": "python",
   "name": "python3"
  },
  "language_info": {
   "codemirror_mode": {
    "name": "ipython",
    "version": 3
   },
   "file_extension": ".py",
   "mimetype": "text/x-python",
   "name": "python",
   "nbconvert_exporter": "python",
   "pygments_lexer": "ipython3",
   "version": "3.8.17"
  },
  "orig_nbformat": 4
 },
 "nbformat": 4,
 "nbformat_minor": 2
}
