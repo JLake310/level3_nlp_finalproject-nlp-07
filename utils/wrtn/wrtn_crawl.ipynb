{
 "cells": [
  {
   "cell_type": "code",
   "execution_count": 1,
   "metadata": {},
   "outputs": [
    {
     "name": "stdout",
     "output_type": "stream",
     "text": [
      "The operation couldn’t be completed. Unable to locate a Java Runtime that supports apt.\n",
      "Please visit http://www.java.com for information on installing Java.\n",
      "\n"
     ]
    }
   ],
   "source": [
    "!pip install selenium -qq\n",
    "!apt install chromium-chromedriver -qq\n",
    "!pip install sentencepiece -qq"
   ]
  },
  {
   "cell_type": "code",
   "execution_count": 1,
   "metadata": {},
   "outputs": [],
   "source": [
    "from selenium import webdriver\n",
    "from selenium.webdriver.common.by import By"
   ]
  },
  {
   "cell_type": "code",
   "execution_count": 54,
   "metadata": {},
   "outputs": [],
   "source": [
    "# 화면에서는 안 보이지만 돌아가는 버전\n",
    "# 리눅스 또는 코랩에서 추천\n",
    "options = webdriver.ChromeOptions()\n",
    "options.add_argument('--headless')        # Head-less 설정\n",
    "options.add_argument('--no-sandbox')\n",
    "options.add_argument('--disable-dev-shm-usage')\n",
    "driver = webdriver.Chrome('chromedriver', options=options)\n",
    "# 로딩 기다릴 시간 지정\n",
    "driver.implicitly_wait(30)"
   ]
  },
  {
   "cell_type": "code",
   "execution_count": 2,
   "metadata": {},
   "outputs": [],
   "source": [
    "# 진행 상황을 눈으로 직접 볼 수 있음\n",
    "driver = webdriver.Chrome('chromedriver')\n",
    "driver.implicitly_wait(30)"
   ]
  },
  {
   "cell_type": "code",
   "execution_count": 3,
   "metadata": {},
   "outputs": [],
   "source": [
    "def login(driver, email, pw):\n",
    "    # 로그인 페이지 접속\n",
    "    base_url = \"https://wrtn.ai/login/wrtn\"\n",
    "    driver.get(base_url)\n",
    "\n",
    "    # 이메일 및 비밀번호 입력\n",
    "    email_box = driver.find_element(By.XPATH, '//*[@id=\"__next\"]/div[2]/div[1]/div[1]/div/div[3]/div[2]/div/input')\n",
    "    email_box.send_keys(email)\n",
    "    driver.find_element(By.XPATH, '//*[@id=\"__next\"]/div[2]/div[1]/div[1]/div/div[4]/button').click()\n",
    "\n",
    "    pw_box = driver.find_element(By.XPATH, '//*[@id=\"__next\"]/div[2]/div[1]/div[1]/div/div[4]/div[2]/div/input')\n",
    "    pw_box.send_keys(pw)\n",
    "    driver.find_element(By.XPATH,'//*[@id=\"__next\"]/div[2]/div[1]/div[1]/div/div[5]/button').click()\n",
    "\n",
    "    # 광고창 끄기\n",
    "    try:\n",
    "        driver.find_element(By.XPATH, '//*[@id=\"__modal\"]/div/div/div[1]/div/div/button[3]').click()\n",
    "    except:\n",
    "        print(\" \")\n",
    "\n",
    "    # 툴로 이동\n",
    "    tool_url = \"https://wrtn.ai/store/details/64ad810e21ee66031b7e9268\"\n",
    "\n",
    "    driver.get(tool_url)"
   ]
  },
  {
   "cell_type": "code",
   "execution_count": 4,
   "metadata": {},
   "outputs": [],
   "source": [
    "def get_review(driver, review):\n",
    "    # 텍스트 적기\n",
    "    textarea = driver.find_element(By.XPATH, '//*[@id=\"__next\"]/div[2]/main/div/div[1]/div[1]/div[1]/div[1]/div[5]/div/textarea')\n",
    "    textarea.clear()\n",
    "    textarea.send_keys(review)\n",
    "\n",
    "    # 생성 버튼 클릭하기\n",
    "    driver.find_element(By.XPATH, '//*[@id=\"__next\"]/div[2]/main/div/div[1]/div[1]/div[1]/div[2]/button').click()\n",
    "\n",
    "    # 요약문 가져오기\n",
    "    summary = driver.find_element(By. XPATH, '//*[@id=\"__next\"]/div[2]/main/div/div[1]/div[1]/div[2]/div/div[1]/div/div/div[1]/textarea').text\n",
    "    \n",
    "    return summary"
   ]
  },
  {
   "cell_type": "code",
   "execution_count": 5,
   "metadata": {},
   "outputs": [],
   "source": [
    "# 홈페이지 회원가입 시 이메일로 가입해주세요!\n",
    "email = \"이메일\"\n",
    "pw = \"비밀번호\"\n",
    "login(driver, email, pw)"
   ]
  },
  {
   "cell_type": "code",
   "execution_count": 6,
   "metadata": {},
   "outputs": [
    {
     "name": "stdout",
     "output_type": "stream",
     "text": [
      "<맛> 오븐에 돌려서 정말 맛있게 먹을 수 있어요 <만족도> 완벽한 맛은 아니지만 충분히 좋은 선택이에요 <편의성> 냉동피자로 피자를 즐길 수 있어 기뻐요\n"
     ]
    }
   ],
   "source": [
    "review = \"최근에는 배달 음식을 많이 시키지 못해서 조금 아쉬웠는데, 다행히도 요즘은 냉동식품이 풍부해서 피자를 냉동으로 구매할 수 있게 되었어요. 내가 선호하는 피자 종류를 찾던 중에, 유명한 브랜드의 콤비네이션 냉동피자를 주문했어요. 그리고 오븐에 돌려서 먹으면 정말 맛있게 먹을 수 있어서 만족스러웠어요. 배달 음식처럼 완벽한 맛은 아니지만, 이 정도면 충분히 좋은 선택인 것 같아서 계속해서 재구매할 생각이에요. 냉동피자로 피자를 즐길 수 있다니, 당분간은 피자에 대한 걱정은 없을 것 같아서 기뻐요\"\n",
    "summary = get_review(driver, review)\n",
    "print(summary)"
   ]
  }
 ],
 "metadata": {
  "kernelspec": {
   "display_name": "torch-env2",
   "language": "python",
   "name": "python3"
  },
  "language_info": {
   "codemirror_mode": {
    "name": "ipython",
    "version": 3
   },
   "file_extension": ".py",
   "mimetype": "text/x-python",
   "name": "python",
   "nbconvert_exporter": "python",
   "pygments_lexer": "ipython3",
   "version": "3.9.16"
  },
  "orig_nbformat": 4
 },
 "nbformat": 4,
 "nbformat_minor": 2
}
