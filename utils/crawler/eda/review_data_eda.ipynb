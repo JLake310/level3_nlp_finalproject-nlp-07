{
 "cells": [
  {
   "cell_type": "code",
   "execution_count": 2,
   "metadata": {
    "collapsed": true,
    "ExecuteTime": {
     "end_time": "2023-07-05T15:51:43.111736Z",
     "start_time": "2023-07-05T15:51:42.836562Z"
    }
   },
   "outputs": [],
   "source": [
    "import pandas as pd\n",
    "import numpy as np"
   ]
  },
  {
   "cell_type": "code",
   "execution_count": 3,
   "outputs": [],
   "source": [
    "review_df = pd.read_csv('../review_떡볶이_ver2.csv')"
   ],
   "metadata": {
    "collapsed": false,
    "ExecuteTime": {
     "end_time": "2023-07-05T15:51:51.147807Z",
     "start_time": "2023-07-05T15:51:51.121756Z"
    }
   }
  },
  {
   "cell_type": "code",
   "execution_count": 4,
   "outputs": [
    {
     "data": {
      "text/plain": "                          prod_name user_name  rating  \\\n0  추억의 국민학교 떡볶이 오리지널 (냉동), 600g, 2개       야오루       5   \n1  추억의 국민학교 떡볶이 오리지널 (냉동), 600g, 2개      긍정여사       5   \n2  추억의 국민학교 떡볶이 오리지널 (냉동), 600g, 2개     어떤소비자       5   \n3  추억의 국민학교 떡볶이 오리지널 (냉동), 600g, 2개     리뷰쓴토끼       5   \n4  추억의 국민학교 떡볶이 오리지널 (냉동), 600g, 2개       외갓집       5   \n\n                      headline  \\\n0                 가격이 많이 올랐어요ㅜ   \n1                    간편조리.맛있어요   \n2            상품평에 진심인 어떤소비자입니다   \n3  어묵까지 들어 있어서 좋아요. 소스가 넉넉합니다.   \n4                    늘 구매하는 제품   \n\n                                      review_content     answer  \\\n0  추억의 국민학교 떡볶이 2팩에 만 원 안 했는데...계속 오르더니, 이제는 3~4 ...  예상보다 맛있어요   \n1  예상보다 맛있네요국물떡볶이에요 쫄깃하게 찰진 밀떡 입니다냉동떡은 물에 봉지채 10여...  예상보다 맛있어요   \n2  맛               ☆☆☆☆☆가성비        ☆☆☆☆☆재구매의사 ☆☆☆...  예상보다 맛있어요   \n3  ✩‧  ₊˚ *  .⋆  ·ฺ⁺˚    ᘏ⑅ᘏ ₊ * ⋆ ·ฺ.  ✩* . ⋆·ฺ ...  예상보다 맛있어요   \n4  오랜만에 구입한 추억의떡볶이~^^ 여전히 매콤 달콤하고 맛있어요.여러가지 채소를 넣...  예상보다 맛있어요   \n\n                                                 url  \n0  https://www.coupang.com/vp/product/reviews?pro...  \n1  https://www.coupang.com/vp/product/reviews?pro...  \n2  https://www.coupang.com/vp/product/reviews?pro...  \n3  https://www.coupang.com/vp/product/reviews?pro...  \n4  https://www.coupang.com/vp/product/reviews?pro...  ",
      "text/html": "<div>\n<style scoped>\n    .dataframe tbody tr th:only-of-type {\n        vertical-align: middle;\n    }\n\n    .dataframe tbody tr th {\n        vertical-align: top;\n    }\n\n    .dataframe thead th {\n        text-align: right;\n    }\n</style>\n<table border=\"1\" class=\"dataframe\">\n  <thead>\n    <tr style=\"text-align: right;\">\n      <th></th>\n      <th>prod_name</th>\n      <th>user_name</th>\n      <th>rating</th>\n      <th>headline</th>\n      <th>review_content</th>\n      <th>answer</th>\n      <th>url</th>\n    </tr>\n  </thead>\n  <tbody>\n    <tr>\n      <th>0</th>\n      <td>추억의 국민학교 떡볶이 오리지널 (냉동), 600g, 2개</td>\n      <td>야오루</td>\n      <td>5</td>\n      <td>가격이 많이 올랐어요ㅜ</td>\n      <td>추억의 국민학교 떡볶이 2팩에 만 원 안 했는데...계속 오르더니, 이제는 3~4 ...</td>\n      <td>예상보다 맛있어요</td>\n      <td>https://www.coupang.com/vp/product/reviews?pro...</td>\n    </tr>\n    <tr>\n      <th>1</th>\n      <td>추억의 국민학교 떡볶이 오리지널 (냉동), 600g, 2개</td>\n      <td>긍정여사</td>\n      <td>5</td>\n      <td>간편조리.맛있어요</td>\n      <td>예상보다 맛있네요국물떡볶이에요 쫄깃하게 찰진 밀떡 입니다냉동떡은 물에 봉지채 10여...</td>\n      <td>예상보다 맛있어요</td>\n      <td>https://www.coupang.com/vp/product/reviews?pro...</td>\n    </tr>\n    <tr>\n      <th>2</th>\n      <td>추억의 국민학교 떡볶이 오리지널 (냉동), 600g, 2개</td>\n      <td>어떤소비자</td>\n      <td>5</td>\n      <td>상품평에 진심인 어떤소비자입니다</td>\n      <td>맛               ☆☆☆☆☆가성비        ☆☆☆☆☆재구매의사 ☆☆☆...</td>\n      <td>예상보다 맛있어요</td>\n      <td>https://www.coupang.com/vp/product/reviews?pro...</td>\n    </tr>\n    <tr>\n      <th>3</th>\n      <td>추억의 국민학교 떡볶이 오리지널 (냉동), 600g, 2개</td>\n      <td>리뷰쓴토끼</td>\n      <td>5</td>\n      <td>어묵까지 들어 있어서 좋아요. 소스가 넉넉합니다.</td>\n      <td>✩‧  ₊˚ *  .⋆  ·ฺ⁺˚    ᘏ⑅ᘏ ₊ * ⋆ ·ฺ.  ✩* . ⋆·ฺ ...</td>\n      <td>예상보다 맛있어요</td>\n      <td>https://www.coupang.com/vp/product/reviews?pro...</td>\n    </tr>\n    <tr>\n      <th>4</th>\n      <td>추억의 국민학교 떡볶이 오리지널 (냉동), 600g, 2개</td>\n      <td>외갓집</td>\n      <td>5</td>\n      <td>늘 구매하는 제품</td>\n      <td>오랜만에 구입한 추억의떡볶이~^^ 여전히 매콤 달콤하고 맛있어요.여러가지 채소를 넣...</td>\n      <td>예상보다 맛있어요</td>\n      <td>https://www.coupang.com/vp/product/reviews?pro...</td>\n    </tr>\n  </tbody>\n</table>\n</div>"
     },
     "execution_count": 4,
     "metadata": {},
     "output_type": "execute_result"
    }
   ],
   "source": [
    "review_df.head()"
   ],
   "metadata": {
    "collapsed": false,
    "ExecuteTime": {
     "end_time": "2023-07-05T15:51:53.552566Z",
     "start_time": "2023-07-05T15:51:53.537646Z"
    }
   }
  },
  {
   "cell_type": "code",
   "execution_count": 5,
   "outputs": [
    {
     "name": "stdout",
     "output_type": "stream",
     "text": [
      "<class 'pandas.core.frame.DataFrame'>\n",
      "RangeIndex: 2540 entries, 0 to 2539\n",
      "Data columns (total 7 columns):\n",
      " #   Column          Non-Null Count  Dtype \n",
      "---  ------          --------------  ----- \n",
      " 0   prod_name       2540 non-null   object\n",
      " 1   user_name       2540 non-null   object\n",
      " 2   rating          2540 non-null   int64 \n",
      " 3   headline        1687 non-null   object\n",
      " 4   review_content  2540 non-null   object\n",
      " 5   answer          2437 non-null   object\n",
      " 6   url             2540 non-null   object\n",
      "dtypes: int64(1), object(6)\n",
      "memory usage: 139.0+ KB\n"
     ]
    }
   ],
   "source": [
    "review_df.info()"
   ],
   "metadata": {
    "collapsed": false,
    "ExecuteTime": {
     "end_time": "2023-07-05T15:51:57.658943Z",
     "start_time": "2023-07-05T15:51:57.649158Z"
    }
   }
  },
  {
   "cell_type": "code",
   "execution_count": 9,
   "outputs": [],
   "source": [
    "# review_content 평균 길이\n",
    "review_df['review_content_len'] = review_df['review_content'].apply(lambda x: len(x))"
   ],
   "metadata": {
    "collapsed": false,
    "ExecuteTime": {
     "end_time": "2023-07-05T15:52:53.560779Z",
     "start_time": "2023-07-05T15:52:53.558477Z"
    }
   }
  },
  {
   "cell_type": "code",
   "execution_count": 10,
   "outputs": [
    {
     "data": {
      "text/plain": "count    2540.000000\nmean      201.091732\nstd       122.829500\nmin        50.000000\n25%        98.000000\n50%       166.000000\n75%       291.000000\nmax       500.000000\nName: review_content_len, dtype: float64"
     },
     "execution_count": 10,
     "metadata": {},
     "output_type": "execute_result"
    }
   ],
   "source": [
    "review_df['review_content_len'].describe()"
   ],
   "metadata": {
    "collapsed": false,
    "ExecuteTime": {
     "end_time": "2023-07-05T15:52:58.944142Z",
     "start_time": "2023-07-05T15:52:58.938158Z"
    }
   }
  },
  {
   "cell_type": "code",
   "execution_count": null,
   "outputs": [],
   "source": [],
   "metadata": {
    "collapsed": false
   }
  },
  {
   "cell_type": "code",
   "execution_count": 15,
   "outputs": [
    {
     "data": {
      "text/plain": "                                     user_name  rating  headline  \\\nprod_name                                                          \n미미네 어묵많이 국물떡볶이 (냉동), 570g, 2봉              160     160        97   \n미미네 오리지널 국물떡볶이 (냉동), 570g, 2개              706     706       488   \n미미네 오리지널 국물떡볶이 (냉동), 570g, 4개                4       4         2   \n미정당 밀 국물떡볶이 (냉동), 1개, 580g                  57      57        31   \n밀&쿡 두끼 즉석 떡볶이 (냉동), 560g, 2개               274     274       186   \n밀&쿡 두끼 쫄볶이 (냉동), 490g, 2개                   98      98        67   \n생가득 말랑말랑 밀떡볶이 누들떡볶이 2인분, 423.5g, 1개        353     353       246   \n오마뎅 진짜 부산 떡볶이 (냉동), 322g, 2개               411     411       252   \n추억의 국민학교 떡볶이 오리지널 (냉동), 600g, 2개           340     340       243   \n풀무원 국물떡볶이 4인분, 847g, 1개                    108     108        65   \n풀무원 국물떡볶이, 423.5g, 1개                       29      29        10   \n\n                                     review_content  answer  url  \\\nprod_name                                                          \n미미네 어묵많이 국물떡볶이 (냉동), 570g, 2봉                   160     145  160   \n미미네 오리지널 국물떡볶이 (냉동), 570g, 2개                   706     684  706   \n미미네 오리지널 국물떡볶이 (냉동), 570g, 4개                     4       4    4   \n미정당 밀 국물떡볶이 (냉동), 1개, 580g                       57      55   57   \n밀&쿡 두끼 즉석 떡볶이 (냉동), 560g, 2개                    274     264  274   \n밀&쿡 두끼 쫄볶이 (냉동), 490g, 2개                        98      98   98   \n생가득 말랑말랑 밀떡볶이 누들떡볶이 2인분, 423.5g, 1개             353     336  353   \n오마뎅 진짜 부산 떡볶이 (냉동), 322g, 2개                    411     402  411   \n추억의 국민학교 떡볶이 오리지널 (냉동), 600g, 2개                340     328  340   \n풀무원 국물떡볶이 4인분, 847g, 1개                         108      99  108   \n풀무원 국물떡볶이, 423.5g, 1개                            29      22   29   \n\n                                     review_content_len  \nprod_name                                                \n미미네 어묵많이 국물떡볶이 (냉동), 570g, 2봉                       160  \n미미네 오리지널 국물떡볶이 (냉동), 570g, 2개                       706  \n미미네 오리지널 국물떡볶이 (냉동), 570g, 4개                         4  \n미정당 밀 국물떡볶이 (냉동), 1개, 580g                           57  \n밀&쿡 두끼 즉석 떡볶이 (냉동), 560g, 2개                        274  \n밀&쿡 두끼 쫄볶이 (냉동), 490g, 2개                            98  \n생가득 말랑말랑 밀떡볶이 누들떡볶이 2인분, 423.5g, 1개                 353  \n오마뎅 진짜 부산 떡볶이 (냉동), 322g, 2개                        411  \n추억의 국민학교 떡볶이 오리지널 (냉동), 600g, 2개                    340  \n풀무원 국물떡볶이 4인분, 847g, 1개                             108  \n풀무원 국물떡볶이, 423.5g, 1개                                29  ",
      "text/html": "<div>\n<style scoped>\n    .dataframe tbody tr th:only-of-type {\n        vertical-align: middle;\n    }\n\n    .dataframe tbody tr th {\n        vertical-align: top;\n    }\n\n    .dataframe thead th {\n        text-align: right;\n    }\n</style>\n<table border=\"1\" class=\"dataframe\">\n  <thead>\n    <tr style=\"text-align: right;\">\n      <th></th>\n      <th>user_name</th>\n      <th>rating</th>\n      <th>headline</th>\n      <th>review_content</th>\n      <th>answer</th>\n      <th>url</th>\n      <th>review_content_len</th>\n    </tr>\n    <tr>\n      <th>prod_name</th>\n      <th></th>\n      <th></th>\n      <th></th>\n      <th></th>\n      <th></th>\n      <th></th>\n      <th></th>\n    </tr>\n  </thead>\n  <tbody>\n    <tr>\n      <th>미미네 어묵많이 국물떡볶이 (냉동), 570g, 2봉</th>\n      <td>160</td>\n      <td>160</td>\n      <td>97</td>\n      <td>160</td>\n      <td>145</td>\n      <td>160</td>\n      <td>160</td>\n    </tr>\n    <tr>\n      <th>미미네 오리지널 국물떡볶이 (냉동), 570g, 2개</th>\n      <td>706</td>\n      <td>706</td>\n      <td>488</td>\n      <td>706</td>\n      <td>684</td>\n      <td>706</td>\n      <td>706</td>\n    </tr>\n    <tr>\n      <th>미미네 오리지널 국물떡볶이 (냉동), 570g, 4개</th>\n      <td>4</td>\n      <td>4</td>\n      <td>2</td>\n      <td>4</td>\n      <td>4</td>\n      <td>4</td>\n      <td>4</td>\n    </tr>\n    <tr>\n      <th>미정당 밀 국물떡볶이 (냉동), 1개, 580g</th>\n      <td>57</td>\n      <td>57</td>\n      <td>31</td>\n      <td>57</td>\n      <td>55</td>\n      <td>57</td>\n      <td>57</td>\n    </tr>\n    <tr>\n      <th>밀&amp;쿡 두끼 즉석 떡볶이 (냉동), 560g, 2개</th>\n      <td>274</td>\n      <td>274</td>\n      <td>186</td>\n      <td>274</td>\n      <td>264</td>\n      <td>274</td>\n      <td>274</td>\n    </tr>\n    <tr>\n      <th>밀&amp;쿡 두끼 쫄볶이 (냉동), 490g, 2개</th>\n      <td>98</td>\n      <td>98</td>\n      <td>67</td>\n      <td>98</td>\n      <td>98</td>\n      <td>98</td>\n      <td>98</td>\n    </tr>\n    <tr>\n      <th>생가득 말랑말랑 밀떡볶이 누들떡볶이 2인분, 423.5g, 1개</th>\n      <td>353</td>\n      <td>353</td>\n      <td>246</td>\n      <td>353</td>\n      <td>336</td>\n      <td>353</td>\n      <td>353</td>\n    </tr>\n    <tr>\n      <th>오마뎅 진짜 부산 떡볶이 (냉동), 322g, 2개</th>\n      <td>411</td>\n      <td>411</td>\n      <td>252</td>\n      <td>411</td>\n      <td>402</td>\n      <td>411</td>\n      <td>411</td>\n    </tr>\n    <tr>\n      <th>추억의 국민학교 떡볶이 오리지널 (냉동), 600g, 2개</th>\n      <td>340</td>\n      <td>340</td>\n      <td>243</td>\n      <td>340</td>\n      <td>328</td>\n      <td>340</td>\n      <td>340</td>\n    </tr>\n    <tr>\n      <th>풀무원 국물떡볶이 4인분, 847g, 1개</th>\n      <td>108</td>\n      <td>108</td>\n      <td>65</td>\n      <td>108</td>\n      <td>99</td>\n      <td>108</td>\n      <td>108</td>\n    </tr>\n    <tr>\n      <th>풀무원 국물떡볶이, 423.5g, 1개</th>\n      <td>29</td>\n      <td>29</td>\n      <td>10</td>\n      <td>29</td>\n      <td>22</td>\n      <td>29</td>\n      <td>29</td>\n    </tr>\n  </tbody>\n</table>\n</div>"
     },
     "execution_count": 15,
     "metadata": {},
     "output_type": "execute_result"
    }
   ],
   "source": [
    "review_df.groupby(review_df['prod_name']).count()"
   ],
   "metadata": {
    "collapsed": false,
    "ExecuteTime": {
     "end_time": "2023-07-05T15:53:58.876946Z",
     "start_time": "2023-07-05T15:53:58.853097Z"
    }
   }
  },
  {
   "cell_type": "code",
   "execution_count": null,
   "outputs": [],
   "source": [],
   "metadata": {
    "collapsed": false
   }
  }
 ],
 "metadata": {
  "kernelspec": {
   "display_name": "Python 3",
   "language": "python",
   "name": "python3"
  },
  "language_info": {
   "codemirror_mode": {
    "name": "ipython",
    "version": 2
   },
   "file_extension": ".py",
   "mimetype": "text/x-python",
   "name": "python",
   "nbconvert_exporter": "python",
   "pygments_lexer": "ipython2",
   "version": "2.7.6"
  }
 },
 "nbformat": 4,
 "nbformat_minor": 0
}
