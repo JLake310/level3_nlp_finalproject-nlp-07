{
 "cells": [
  {
   "cell_type": "code",
   "execution_count": 1,
   "metadata": {},
   "outputs": [],
   "source": [
    "import requests\n",
    "import ast\n",
    "import json\n",
    "import pandas as pd\n",
    "from koeda import EDA\n",
    "import re"
   ]
  },
  {
   "cell_type": "code",
   "execution_count": 42,
   "metadata": {},
   "outputs": [],
   "source": [
    "testset = {}"
   ]
  },
  {
   "cell_type": "code",
   "execution_count": 56,
   "metadata": {},
   "outputs": [],
   "source": [
    "for feedback_id in range(54, 74):\n",
    "    response = requests.get(f\"http://localhost:8000/api/product/feedback_id/{feedback_id}\").json()\n",
    "    recom_list = response[\"recommendations\"]\n",
    "    best_id = int(response['best'])\n",
    "    query = response['query']\n",
    "\n",
    "    response_list = requests.post(f\"http://localhost:8000/api/product/prod_id_list/\", data=recom_list).json()\n",
    "    search_name = response_list[0][\"search_name\"]\n",
    "    hard_examples = [item[\"summary\"][1:-1] for item in response_list if item['product_id'] != best_id]\n",
    "\n",
    "    product_list = requests.get(f'http://localhost:8000/api/product/prod_id_list/all/{search_name}').json()\n",
    "\n",
    "    answer_context = None\n",
    "    no_answer_context = []\n",
    "    for product in product_list['product']:\n",
    "        if product['product_id'] == best_id:\n",
    "            answer_context = product['summary'][1:-1]\n",
    "        else:\n",
    "            if product['summary']:\n",
    "                no_answer_context.append(product['summary'][1:-1])\n",
    "    total_contexts = [answer_context] + no_answer_context\n",
    "    cur_data = {\n",
    "        \"query\": query,\n",
    "        \"positive_passage\": answer_context,\n",
    "        \"total_passages\": total_contexts,\n",
    "        \"hard_negatives\": hard_examples\n",
    "    }\n",
    "    testset[f'feedback_id_{feedback_id}'] = cur_data"
   ]
  },
  {
   "cell_type": "code",
   "execution_count": 58,
   "metadata": {},
   "outputs": [],
   "source": [
    "import json\n",
    "\n",
    "with open('test.json', 'w', encoding='utf-8') as f:\n",
    "    json.dump(testset, f, ensure_ascii=False, indent='\\t')"
   ]
  },
  {
   "cell_type": "code",
   "execution_count": 62,
   "metadata": {},
   "outputs": [],
   "source": [
    "feedback_id_list = []\n",
    "query_list = []\n",
    "positive_passage_list = []\n",
    "total_passages_list = []\n",
    "hard_negatives_list = []\n",
    "for key, val in testset.items():\n",
    "    feedback_id_list.append(key)\n",
    "    query_list.append(val['query'])\n",
    "    positive_passage_list.append(val['positive_passage'])\n",
    "    total_passages_list.append(val['total_passages'])\n",
    "    hard_negatives_list.append(val['hard_negatives'])"
   ]
  },
  {
   "cell_type": "code",
   "execution_count": 65,
   "metadata": {},
   "outputs": [],
   "source": [
    "testset_df = pd.DataFrame({\"id\":feedback_id_list, \n",
    "                           \"query\": query_list,\n",
    "                           \"positive_context\": positive_passage_list,\n",
    "                           \"contexts\": total_passages_list,\n",
    "                           \"hard_examples\":hard_negatives_list})"
   ]
  },
  {
   "cell_type": "code",
   "execution_count": 67,
   "metadata": {},
   "outputs": [],
   "source": [
    "testset_df.to_csv('testset.csv', index=False)"
   ]
  },
  {
   "cell_type": "code",
   "execution_count": 8,
   "metadata": {},
   "outputs": [],
   "source": [
    "response = requests.get(f\"http://localhost:8000/api/product/feedback_id/all\").json()"
   ]
  },
  {
   "cell_type": "code",
   "execution_count": 10,
   "metadata": {},
   "outputs": [],
   "source": [
    "feedbacks = response['data']"
   ]
  },
  {
   "cell_type": "code",
   "execution_count": 38,
   "metadata": {},
   "outputs": [
    {
     "name": "stdout",
     "output_type": "stream",
     "text": [
      "28\n"
     ]
    }
   ],
   "source": [
    "for idx, feedback in enumerate(feedbacks):\n",
    "    if feedback['feedback_id'] == 77:\n",
    "        print(idx)"
   ]
  },
  {
   "cell_type": "code",
   "execution_count": null,
   "metadata": {},
   "outputs": [],
   "source": [
    "for response in feedbacks:\n",
    "    feedback_id = response['feedback_id']\n",
    "    recom_list = response[\"recommendations\"]\n",
    "    best_id = int(response['best'])\n",
    "    query = response['query']\n",
    "\n",
    "    response_list = requests.post(f\"http://localhost:8000/api/product/prod_id_list/\", data=recom_list).json()\n",
    "    search_name = response_list[0][\"search_name\"]\n",
    "    hard_examples = [item[\"summary\"][1:-1] for item in response_list if item['product_id'] != best_id]\n",
    "\n",
    "    product_list = requests.get(f'http://localhost:8000/api/product/prod_id_list/all/{search_name}').json()\n",
    "\n",
    "    answer_context = None\n",
    "    no_answer_context = []\n",
    "    for product in product_list['product']:\n",
    "        if product['product_id'] == best_id:\n",
    "            answer_context = product['summary'][1:-1]\n",
    "        else:\n",
    "            if product['summary']:\n",
    "                no_answer_context.append(product['summary'][1:-1])\n",
    "    total_contexts = [answer_context] + no_answer_context\n",
    "    cur_data = {\n",
    "        \"query\": query,\n",
    "        \"positive_passage\": answer_context,\n",
    "        \"total_passages\": total_contexts,\n",
    "        \"hard_negatives\": hard_examples\n",
    "    }\n",
    "    testset[f'feedback_id_{feedback_id}'] = cur_data"
   ]
  },
  {
   "cell_type": "code",
   "execution_count": 48,
   "metadata": {},
   "outputs": [
    {
     "data": {
      "text/plain": [
       "40"
      ]
     },
     "execution_count": 48,
     "metadata": {},
     "output_type": "execute_result"
    }
   ],
   "source": [
    "len(testset)"
   ]
  },
  {
   "cell_type": "code",
   "execution_count": 49,
   "metadata": {},
   "outputs": [],
   "source": [
    "feedback_id_list = []\n",
    "query_list = []\n",
    "positive_passage_list = []\n",
    "total_passages_list = []\n",
    "hard_negatives_list = []\n",
    "for key, val in testset.items():\n",
    "    feedback_id_list.append(key)\n",
    "    query_list.append(val['query'])\n",
    "    positive_passage_list.append(val['positive_passage'])\n",
    "    total_passages_list.append(val['total_passages'])\n",
    "    hard_negatives_list.append(val['hard_negatives'])"
   ]
  },
  {
   "cell_type": "code",
   "execution_count": 50,
   "metadata": {},
   "outputs": [],
   "source": [
    "import pandas as pd\n",
    "\n",
    "testset_df = pd.DataFrame({\"id\":feedback_id_list, \n",
    "                           \"query\": query_list,\n",
    "                           \"positive_context\": positive_passage_list,\n",
    "                           \"contexts\": total_passages_list,\n",
    "                           \"hard_examples\":hard_negatives_list})\n",
    "testset_df.to_csv('testset_40.csv', index=False)"
   ]
  },
  {
   "cell_type": "code",
   "execution_count": 51,
   "metadata": {},
   "outputs": [],
   "source": [
    "with open('test_40.json', 'w', encoding='utf-8') as f:\n",
    "    json.dump(testset, f, ensure_ascii=False, indent='\\t')"
   ]
  },
  {
   "cell_type": "code",
   "execution_count": 53,
   "metadata": {},
   "outputs": [],
   "source": [
    "one_hard = [hard[0] for hard in hard_negatives_list]"
   ]
  },
  {
   "cell_type": "code",
   "execution_count": 55,
   "metadata": {},
   "outputs": [],
   "source": [
    "hard_df = pd.DataFrame({\"id\":feedback_id_list, \"question\": query_list, \"context\":positive_passage_list, \"negative_example\":one_hard})"
   ]
  },
  {
   "cell_type": "code",
   "execution_count": 57,
   "metadata": {},
   "outputs": [
    {
     "data": {
      "text/html": [
       "<div>\n",
       "<style scoped>\n",
       "    .dataframe tbody tr th:only-of-type {\n",
       "        vertical-align: middle;\n",
       "    }\n",
       "\n",
       "    .dataframe tbody tr th {\n",
       "        vertical-align: top;\n",
       "    }\n",
       "\n",
       "    .dataframe thead th {\n",
       "        text-align: right;\n",
       "    }\n",
       "</style>\n",
       "<table border=\"1\" class=\"dataframe\">\n",
       "  <thead>\n",
       "    <tr style=\"text-align: right;\">\n",
       "      <th></th>\n",
       "      <th>id</th>\n",
       "      <th>question</th>\n",
       "      <th>context</th>\n",
       "      <th>negative_example</th>\n",
       "    </tr>\n",
       "  </thead>\n",
       "  <tbody>\n",
       "    <tr>\n",
       "      <th>0</th>\n",
       "      <td>feedback_id_36</td>\n",
       "      <td>맵고 식감이 쫄깃하고 양 많은 것</td>\n",
       "      <td>&lt;맛&gt; 떡이 진짜 맛있고 양념도 기가 막히게 맛있어서 &lt;양&gt; 가격도 저렴하고 양도 ...</td>\n",
       "      <td>&lt;맛&gt; 최고 &lt;선호&gt; 아이들이 매운 거 못 먹어서 &lt;양&gt; 4인분이라서 2인분씩 먹으...</td>\n",
       "    </tr>\n",
       "    <tr>\n",
       "      <th>1</th>\n",
       "      <td>feedback_id_42</td>\n",
       "      <td>바삭바삭하고 닭가슴살</td>\n",
       "      <td>&lt;맛&gt; 맛있게 먹으려고 여러 노력 &lt;양념치킨 소스&gt; 너무 맛있어서 또 구매 &lt;다이어...</td>\n",
       "      <td>&lt;맛&gt; 맵지 않고 맛있어요 &lt;양&gt; 양도 많아서 당분간 걱정 없이 먹겠네요 &lt;선호&gt; ...</td>\n",
       "    </tr>\n",
       "    <tr>\n",
       "      <th>2</th>\n",
       "      <td>feedback_id_47</td>\n",
       "      <td>비계 적은 것</td>\n",
       "      <td>&lt;맛&gt; 기름이 많이 있지 않아서 제일 마음에 듬 &lt;양&gt; 다이어트 식을 만들기에도 좋...</td>\n",
       "      <td>&lt;맛&gt; 고기 색깔만 봐도 신선함이 느껴져요 &lt;양&gt; 1팩 500g &lt;조리&gt; 냉동상태로...</td>\n",
       "    </tr>\n",
       "  </tbody>\n",
       "</table>\n",
       "</div>"
      ],
      "text/plain": [
       "               id            question  \\\n",
       "0  feedback_id_36  맵고 식감이 쫄깃하고 양 많은 것   \n",
       "1  feedback_id_42         바삭바삭하고 닭가슴살   \n",
       "2  feedback_id_47             비계 적은 것   \n",
       "\n",
       "                                             context  \\\n",
       "0  <맛> 떡이 진짜 맛있고 양념도 기가 막히게 맛있어서 <양> 가격도 저렴하고 양도 ...   \n",
       "1  <맛> 맛있게 먹으려고 여러 노력 <양념치킨 소스> 너무 맛있어서 또 구매 <다이어...   \n",
       "2  <맛> 기름이 많이 있지 않아서 제일 마음에 듬 <양> 다이어트 식을 만들기에도 좋...   \n",
       "\n",
       "                                    negative_example  \n",
       "0  <맛> 최고 <선호> 아이들이 매운 거 못 먹어서 <양> 4인분이라서 2인분씩 먹으...  \n",
       "1  <맛> 맵지 않고 맛있어요 <양> 양도 많아서 당분간 걱정 없이 먹겠네요 <선호> ...  \n",
       "2  <맛> 고기 색깔만 봐도 신선함이 느껴져요 <양> 1팩 500g <조리> 냉동상태로...  "
      ]
     },
     "execution_count": 57,
     "metadata": {},
     "output_type": "execute_result"
    }
   ],
   "source": [
    "hard_df.head(3)"
   ]
  },
  {
   "cell_type": "code",
   "execution_count": 66,
   "metadata": {},
   "outputs": [],
   "source": [
    "hard_df = hard_df.sample(frac=1)"
   ]
  },
  {
   "cell_type": "code",
   "execution_count": 69,
   "metadata": {},
   "outputs": [],
   "source": [
    "hard_df.to_csv('hard_data.csv', index=False)"
   ]
  },
  {
   "cell_type": "code",
   "execution_count": 73,
   "metadata": {},
   "outputs": [],
   "source": [
    "hard_df.iloc[35:].to_csv('hard_val.csv', index=False)"
   ]
  },
  {
   "cell_type": "markdown",
   "metadata": {},
   "source": [
    "## 요약 전체 가져오기"
   ]
  },
  {
   "cell_type": "code",
   "execution_count": 2,
   "metadata": {},
   "outputs": [],
   "source": [
    "response = requests.get(f\"http://localhost:8000/api/product/summary/all\").json()"
   ]
  },
  {
   "cell_type": "code",
   "execution_count": 207,
   "metadata": {},
   "outputs": [],
   "source": [
    "product_ids = [res['product_id'] for res in response['data']]"
   ]
  },
  {
   "cell_type": "code",
   "execution_count": 4,
   "metadata": {},
   "outputs": [],
   "source": [
    "summary_list = [res['summary'][1:-1] for res in response['data'] if len(res['summary']) <= 200]"
   ]
  },
  {
   "cell_type": "code",
   "execution_count": 11,
   "metadata": {},
   "outputs": [],
   "source": [
    "eda = EDA(\n",
    "    morpheme_analyzer=\"Okt\", alpha_sr=1.0, alpha_ri=0.0, alpha_rs=0.0, prob_rd=0.0\n",
    ")"
   ]
  },
  {
   "cell_type": "code",
   "execution_count": 222,
   "metadata": {},
   "outputs": [
    {
     "name": "stdout",
     "output_type": "stream",
     "text": [
      "곰곰 우리 쌀이 제일 가격에 부담스럽지 않음 쌀 품질도 좋음 배송도 꼼꼼하게 잘 옴 밥할 때 구수한 냄새가 입맛을 돋아나게 함\n"
     ]
    }
   ],
   "source": [
    "def remove_tags_eda(text):\n",
    "    pattern = r'<[^>]+>'\n",
    "    result = re.sub(pattern, '|', text)\n",
    "    result_list = result.split('| ')\n",
    "    return [eda(result.rstrip()) for result in result_list if result.rstrip() and len(result.rstrip()) <= 25]\n",
    "\n",
    "def remove_tags(text):\n",
    "    pattern = r'<[^>]+>'\n",
    "    result = re.sub(pattern, '|', text)\n",
    "    result_list = result.split('| ')\n",
    "    return \" \".join([result.rstrip() for result in result_list if result.rstrip()])\n",
    "\n",
    "text = '<맛> 곰곰 우리 쌀이 제일 <가격> 가격에 부담스럽지 않음 <품질> 쌀 품질도 좋음 <향> 배송도 꼼꼼하게 잘 옴 <선호> 밥할 때 구수한 냄새가 입맛을 돋아나게 함'\n",
    "result_list = remove_tags(text)\n",
    "# ' '.join(result_list)\n",
    "print(result_list)"
   ]
  },
  {
   "cell_type": "code",
   "execution_count": 223,
   "metadata": {},
   "outputs": [],
   "source": [
    "ids = []\n",
    "query = []\n",
    "context = []\n",
    "for p_id, summary in zip(product_ids, summary_list):\n",
    "    query_list = remove_tags_eda(summary)\n",
    "    context_list = remove_tags(summary)\n",
    "    query.extend(query_list)\n",
    "    ids.extend([ids for _ in range(len(query_list))])\n",
    "    context.extend([context_list for _ in range(len(query_list))])"
   ]
  },
  {
   "cell_type": "code",
   "execution_count": 224,
   "metadata": {},
   "outputs": [
    {
     "data": {
      "text/plain": [
       "16627"
      ]
     },
     "execution_count": 224,
     "metadata": {},
     "output_type": "execute_result"
    }
   ],
   "source": [
    "len(query)"
   ]
  },
  {
   "cell_type": "code",
   "execution_count": 229,
   "metadata": {},
   "outputs": [],
   "source": [
    "ids = [f'data_id_{id_}' for id_ in list(range(1, len(query)+1))]"
   ]
  },
  {
   "cell_type": "code",
   "execution_count": 232,
   "metadata": {},
   "outputs": [],
   "source": [
    "train = pd.DataFrame({\"id\": ids, \"query\": query, \"context\":context})"
   ]
  },
  {
   "cell_type": "code",
   "execution_count": 233,
   "metadata": {},
   "outputs": [
    {
     "data": {
      "text/html": [
       "<div>\n",
       "<style scoped>\n",
       "    .dataframe tbody tr th:only-of-type {\n",
       "        vertical-align: middle;\n",
       "    }\n",
       "\n",
       "    .dataframe tbody tr th {\n",
       "        vertical-align: top;\n",
       "    }\n",
       "\n",
       "    .dataframe thead th {\n",
       "        text-align: right;\n",
       "    }\n",
       "</style>\n",
       "<table border=\"1\" class=\"dataframe\">\n",
       "  <thead>\n",
       "    <tr style=\"text-align: right;\">\n",
       "      <th></th>\n",
       "      <th>id</th>\n",
       "      <th>query</th>\n",
       "      <th>context</th>\n",
       "    </tr>\n",
       "  </thead>\n",
       "  <tbody>\n",
       "    <tr>\n",
       "      <th>0</th>\n",
       "      <td>data_id_1</td>\n",
       "      <td>대등 곰곰 우리 쌀이 제일</td>\n",
       "      <td>곰곰 우리 쌀이 제일 가격만 저렴하고 쌀 품질도 좋음 구수한 냄새가 입맛을 돋아나게...</td>\n",
       "    </tr>\n",
       "    <tr>\n",
       "      <th>1</th>\n",
       "      <td>data_id_2</td>\n",
       "      <td>가격만 저렴하고 쌀 품질도 좋음</td>\n",
       "      <td>곰곰 우리 쌀이 제일 가격만 저렴하고 쌀 품질도 좋음 구수한 냄새가 입맛을 돋아나게...</td>\n",
       "    </tr>\n",
       "    <tr>\n",
       "      <th>2</th>\n",
       "      <td>data_id_3</td>\n",
       "      <td>구수한 냄새가 입맛을 돋아나게 함</td>\n",
       "      <td>곰곰 우리 쌀이 제일 가격만 저렴하고 쌀 품질도 좋음 구수한 냄새가 입맛을 돋아나게...</td>\n",
       "    </tr>\n",
       "    <tr>\n",
       "      <th>3</th>\n",
       "      <td>data_id_4</td>\n",
       "      <td>꼼꼼하게 잘 오고 집 전도까지 가져다주심</td>\n",
       "      <td>곰곰 우리 쌀이 제일 가격만 저렴하고 쌀 품질도 좋음 구수한 냄새가 입맛을 돋아나게...</td>\n",
       "    </tr>\n",
       "    <tr>\n",
       "      <th>4</th>\n",
       "      <td>data_id_5</td>\n",
       "      <td>다섯 식구인쌀저희는 비싼 은 못 먹겠음</td>\n",
       "      <td>곰곰 우리 쌀이 제일 가격만 저렴하고 쌀 품질도 좋음 구수한 냄새가 입맛을 돋아나게...</td>\n",
       "    </tr>\n",
       "  </tbody>\n",
       "</table>\n",
       "</div>"
      ],
      "text/plain": [
       "          id                   query  \\\n",
       "0  data_id_1          대등 곰곰 우리 쌀이 제일   \n",
       "1  data_id_2       가격만 저렴하고 쌀 품질도 좋음   \n",
       "2  data_id_3      구수한 냄새가 입맛을 돋아나게 함   \n",
       "3  data_id_4  꼼꼼하게 잘 오고 집 전도까지 가져다주심   \n",
       "4  data_id_5   다섯 식구인쌀저희는 비싼 은 못 먹겠음   \n",
       "\n",
       "                                             context  \n",
       "0  곰곰 우리 쌀이 제일 가격만 저렴하고 쌀 품질도 좋음 구수한 냄새가 입맛을 돋아나게...  \n",
       "1  곰곰 우리 쌀이 제일 가격만 저렴하고 쌀 품질도 좋음 구수한 냄새가 입맛을 돋아나게...  \n",
       "2  곰곰 우리 쌀이 제일 가격만 저렴하고 쌀 품질도 좋음 구수한 냄새가 입맛을 돋아나게...  \n",
       "3  곰곰 우리 쌀이 제일 가격만 저렴하고 쌀 품질도 좋음 구수한 냄새가 입맛을 돋아나게...  \n",
       "4  곰곰 우리 쌀이 제일 가격만 저렴하고 쌀 품질도 좋음 구수한 냄새가 입맛을 돋아나게...  "
      ]
     },
     "execution_count": 233,
     "metadata": {},
     "output_type": "execute_result"
    }
   ],
   "source": [
    "train.head(5)"
   ]
  }
 ],
 "metadata": {
  "kernelspec": {
   "display_name": "torch-env2",
   "language": "python",
   "name": "python3"
  },
  "language_info": {
   "codemirror_mode": {
    "name": "ipython",
    "version": 3
   },
   "file_extension": ".py",
   "mimetype": "text/x-python",
   "name": "python",
   "nbconvert_exporter": "python",
   "pygments_lexer": "ipython3",
   "version": "3.9.16"
  },
  "orig_nbformat": 4
 },
 "nbformat": 4,
 "nbformat_minor": 2
}
