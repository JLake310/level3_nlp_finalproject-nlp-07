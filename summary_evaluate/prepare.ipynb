{
 "cells": [
  {
   "cell_type": "code",
   "execution_count": 1,
   "metadata": {},
   "outputs": [],
   "source": [
    "import pandas as pd\n",
    "from tqdm import tqdm\n",
    "import re"
   ]
  },
  {
   "cell_type": "markdown",
   "metadata": {},
   "source": [
    "# 테스트 데이터셋 준비"
   ]
  },
  {
   "cell_type": "code",
   "execution_count": 2,
   "metadata": {},
   "outputs": [
    {
     "data": {
      "text/plain": [
       "Index(['id', 'db', 'prod_id', 'prod_name', 'context', 'filtered_context',\n",
       "       'summary', 'filter_score', 'final_summary'],\n",
       "      dtype='object')"
      ]
     },
     "execution_count": 2,
     "metadata": {},
     "output_type": "execute_result"
    }
   ],
   "source": [
    "test_df = pd.read_csv(\"/opt/ml/input/data/test_data.csv\")\n",
    "test_df.keys()"
   ]
  },
  {
   "cell_type": "code",
   "execution_count": 3,
   "metadata": {},
   "outputs": [
    {
     "data": {
      "text/plain": [
       "50"
      ]
     },
     "execution_count": 3,
     "metadata": {},
     "output_type": "execute_result"
    }
   ],
   "source": [
    "test_dataset = []\n",
    "\n",
    "for idx, item in test_df.iterrows():\n",
    "    data = {\n",
    "        \"id\": item[\"id\"],\n",
    "        \"prod_name\": item[\"prod_name\"],\n",
    "        \"review\": item[\"filtered_context\"],\n",
    "        \"summary\": item[\"final_summary\"]\n",
    "    }\n",
    "    test_dataset.append(data)\n",
    "len(test_dataset)"
   ]
  },
  {
   "cell_type": "markdown",
   "metadata": {},
   "source": [
    "# 평가할 결과 데이터 준비"
   ]
  },
  {
   "cell_type": "code",
   "execution_count": 4,
   "metadata": {},
   "outputs": [
    {
     "data": {
      "text/html": [
       "<div>\n",
       "<style scoped>\n",
       "    .dataframe tbody tr th:only-of-type {\n",
       "        vertical-align: middle;\n",
       "    }\n",
       "\n",
       "    .dataframe tbody tr th {\n",
       "        vertical-align: top;\n",
       "    }\n",
       "\n",
       "    .dataframe thead th {\n",
       "        text-align: right;\n",
       "    }\n",
       "</style>\n",
       "<table border=\"1\" class=\"dataframe\">\n",
       "  <thead>\n",
       "    <tr style=\"text-align: right;\">\n",
       "      <th></th>\n",
       "      <th>Unnamed: 0</th>\n",
       "      <th>id</th>\n",
       "      <th>output</th>\n",
       "      <th>time</th>\n",
       "    </tr>\n",
       "  </thead>\n",
       "  <tbody>\n",
       "    <tr>\n",
       "      <th>0</th>\n",
       "      <td>0</td>\n",
       "      <td>1</td>\n",
       "      <td>&lt;가격&gt; 가격도 착한데 쌀 품질도 좋아요 &lt;맛&gt; 맛이 좋고 윤기도 흘러요 &lt;맛&gt; 밥...</td>\n",
       "      <td>['0:00:07', '0:00:07', '0:00:07', '0:00:07', '...</td>\n",
       "    </tr>\n",
       "  </tbody>\n",
       "</table>\n",
       "</div>"
      ],
      "text/plain": [
       "   Unnamed: 0  id                                             output  \\\n",
       "0           0   1  <가격> 가격도 착한데 쌀 품질도 좋아요 <맛> 맛이 좋고 윤기도 흘러요 <맛> 밥...   \n",
       "\n",
       "                                                time  \n",
       "0  ['0:00:07', '0:00:07', '0:00:07', '0:00:07', '...  "
      ]
     },
     "execution_count": 4,
     "metadata": {},
     "output_type": "execute_result"
    }
   ],
   "source": [
    "RES_PATH = \"/opt/ml/input/output/outout_T5_g256.csv\"\n",
    "result_df = pd.read_csv(RES_PATH)\n",
    "result_df.head(1)"
   ]
  },
  {
   "cell_type": "code",
   "execution_count": 5,
   "metadata": {},
   "outputs": [],
   "source": [
    "# 컬럼명\n",
    "ID = \"id\"\n",
    "# OUTPUT = \"predicted_summary\" \n",
    "OUTPUT = \"output\"\n",
    "# OUTPUT = \"preds\"\n",
    "TIME = \"time\"\n",
    "# TIME = \"times\""
   ]
  },
  {
   "cell_type": "code",
   "execution_count": 7,
   "metadata": {},
   "outputs": [
    {
     "name": "stdout",
     "output_type": "stream",
     "text": [
      "격> 가격도 착한데 쌀 품질도 좋아요 <맛> 맛이 좋고 윤기도 흘러요 <맛> 밥할 때마다 구수한 냄새가 입맛이 확 돋아나게 합니다 <향> 개봉 시 구수한 백미 냄새가 나며 알이 고르고 깨끗합니다 <향> 취사 시 특유의 백미 냄새가 두루 퍼지고 달달하면서 고소한 맛이 나는 쌀입니다 <맛> 2인 맞벌이 가구라서 평소 집에서 밥해 먹을 일이 많이 없어서 큰 쌀 사기 부담스러운데 4kg 짜리가 아주 좋네요 <품질> 2022년도 쌀이고 도정 일은 아주 최근 일이라서 품질이 좋네요 <맛> 쌀알도 매끈하고 윤기도 있어서 흠잡을 건 따로 없고 맛은 물론 깔끔하고 담백한 느낌입니다 <맛> 저희 집 입맛에는 아주 만족스러운 맛이에요 <맛> 곰곰 소중한 우리 <선호> 탄수화물이 풍부 <맛> 곰곰 쌀로 밥하니까 밥이 고슬고슬 맛있게 돼서 밥을 많이 먹게 되는 게 함정 <맛> 쌀알 굵기도 적당하고 해서 밥했을 때 더욱 맛나나봐요 <맛> 가한 밥이 윤기가 좔좔 나는 게 곰곰 쌀 안 고를 이유가 없죠 <맛> 10kg 면 제법 오래 먹더라고요 <맛> 찰기가 엄청나고 윤기가 흐르지는 않지만 평타 치는 백미 맛이었어요 <선호> 쌀을 이렇게 사는 건 또 처음입니다 <선호> 쌀을 이렇게 사는 건 또 처음입니다 <선호> 쌀을 이렇게 사는 건 또 처음입니다 <선호> 쌀을 이렇게 사는 건 또 처음입니다 <선호> 쌀을 이렇게 사는 건 또 처음입니다 <선호> 쌀을 이렇게 사는 건 또 처음입니다 <선호 <선호> 2kg 용량 강추 <가성비> 용량이 큰 걸 살수록 저렴 <맛> 건강한 맛과 편의함을 제공 <선호> 곰곰 제품이 참 많네요 <선호> 판매량이 높으니 계속해서 최근 도정일자로 공급되고 판매되고의 반복 <맛> 다른 잡곡 안 섞고 이 쌀만 해먹어도 찰기가 있다는 느낌 <맛> 어떤 쌀은 밥을 하면 푸석거리는데 이건 그런 것 없네요 <품질> 품질도 우수하고 괜찮았어요 <품질> 질 좋을 품질을 착한 가격에 먹을 수 있어서 소비자 입장에서는 너무 좋은 것 같아요 <품질> 암 도정일이 2023년 5월 22일 날짜가 많이 짧아서 좋아요 <맛> 보슬보슬 밥이 진심 잘 됐어요 <맛> 윤기가 쫘르르르르 곰곰 우리 쌀 왜 인가 <선호> 쌀에 벌레나 이물도 없고 <맛> 밥맛이 너무너무 좋습니다 <맛> 엄마 깻잎 김치로 한 쌈 싸서 먹으니 진짜 꿀맛이더라고요 <선호> 아침에는 둘째 중학생 딸아이만 밥을 먹고 학교 가서 저녁에 다 같이 밥은 꼭 하루 한 끼 함께 먹으려고 노력하는 집이에요 <선호> 밥의 중요성이 느껴져요 <선호> 저녁이라도 가족 모두 같이 먹으려고 노력하는 40대 워킹맘입니다 <선호> 찰지고 윤기나는 햇반같이 밥이 되고 밥맛도 좋아서 <선호> 20 일정도에 한 10킬로 다 먹는 거 같아요 <맛> 쌀도 깨끗하고 맛이 좋아서 앞으로도 계속 입쌀을 이용할 거 같아요 <선호> 물양을 평소보다 조금 덜 부어도 맛나게 밥이 되는 찰진 쌀인 거 같아요 <선호> 몇 년째 곰곰 쌀로 밥을 해먹고요 <조리> 압력밥솥에 추 흔들리고 5분이면 찰진 밥 완성 <맛> 전기밥솥 밥 못 먹겠어요 <밥맛> 밥이 찰지고 윤기 단점 없어요 <선호> 2인 가정에 10킬로는 너무 오래 먹어서 5킬로 정도가 무난하더라고요 <맛> 4킬로 알맞아서 사봤습니다 <품질> 도정일자도 확인했는데 얼마 안 된 거라 더 마음에 들더라고요 <품질> 항상 쌀은 품종 보고 샀는데 크게 잘 모르겠더라고요 <품질> 상 등급 혼합미 잇길래 한 번 사봤어요 <품질> 쌀 모양도 빛깔도 좋습니다 <조리> 밥이 완성되고 맛을 보는데 맛있어요 <맛> 적당히 찰지고 물을 좀 적게 했더니 고슬고슬하게 딱 제가 좋아하는 스타일로 밥이\n"
     ]
    }
   ],
   "source": [
    "from utils.preprocess import clean_text\n",
    "\n",
    "def string2output(t):\n",
    "    t = t[1:-1]\n",
    "    t = [\n",
    "        clean_text(tt[1:-1], remove_tag=False)\n",
    "        for tt in t.split(\",\")\n",
    "        ]\n",
    "    \n",
    "    return \" \".join(t)\n",
    "\n",
    "text = result_df.loc[0, OUTPUT]\n",
    "print(string2output(text))"
   ]
  },
  {
   "cell_type": "code",
   "execution_count": 8,
   "metadata": {},
   "outputs": [],
   "source": [
    "def to_sec(t):\n",
    "    hr, mint, sec = [int(i) for i in t.split(\":\")]\n",
    "    sec += mint*60 + hr*60*60\n",
    "    \n",
    "    return sec"
   ]
  },
  {
   "cell_type": "code",
   "execution_count": 9,
   "metadata": {},
   "outputs": [
    {
     "name": "stdout",
     "output_type": "stream",
     "text": [
      "[7, 7, 7, 7, 7, 6] 41\n"
     ]
    }
   ],
   "source": [
    "def string2sec(t):\n",
    "    t = t[1:-1].split(\",\")\n",
    "    t = [\n",
    "        to_sec(tt.strip()[1:-1])\n",
    "        for tt in t\n",
    "    ]\n",
    "    \n",
    "    return t\n",
    "    \n",
    "t = result_df.loc[7, TIME]\n",
    "t = string2sec(t)\n",
    "print(t, sum(t))"
   ]
  },
  {
   "cell_type": "code",
   "execution_count": 10,
   "metadata": {},
   "outputs": [
    {
     "ename": "ValueError",
     "evalue": "could not convert string to float: \"'0:00:07'\"",
     "output_type": "error",
     "traceback": [
      "\u001b[0;31m---------------------------------------------------------------------------\u001b[0m",
      "\u001b[0;31mValueError\u001b[0m                                Traceback (most recent call last)",
      "\u001b[1;32m/opt/ml/input/level3_nlp_finalproject-nlp-07/summary_evaluate/prepare.ipynb Cell 11\u001b[0m in \u001b[0;36m<cell line: 10>\u001b[0;34m()\u001b[0m\n\u001b[1;32m      <a href='vscode-notebook-cell://ssh-remote%2B101.101.216.52/opt/ml/input/level3_nlp_finalproject-nlp-07/summary_evaluate/prepare.ipynb#X13sdnNjb2RlLXJlbW90ZQ%3D%3D?line=2'>3</a>\u001b[0m     t \u001b[39m=\u001b[39m [\n\u001b[1;32m      <a href='vscode-notebook-cell://ssh-remote%2B101.101.216.52/opt/ml/input/level3_nlp_finalproject-nlp-07/summary_evaluate/prepare.ipynb#X13sdnNjb2RlLXJlbW90ZQ%3D%3D?line=3'>4</a>\u001b[0m         \u001b[39mfloat\u001b[39m(tt)\n\u001b[1;32m      <a href='vscode-notebook-cell://ssh-remote%2B101.101.216.52/opt/ml/input/level3_nlp_finalproject-nlp-07/summary_evaluate/prepare.ipynb#X13sdnNjb2RlLXJlbW90ZQ%3D%3D?line=4'>5</a>\u001b[0m         \u001b[39mfor\u001b[39;00m tt \u001b[39min\u001b[39;00m t\u001b[39m.\u001b[39msplit(\u001b[39m\"\u001b[39m\u001b[39m,\u001b[39m\u001b[39m\"\u001b[39m)\n\u001b[1;32m      <a href='vscode-notebook-cell://ssh-remote%2B101.101.216.52/opt/ml/input/level3_nlp_finalproject-nlp-07/summary_evaluate/prepare.ipynb#X13sdnNjb2RlLXJlbW90ZQ%3D%3D?line=5'>6</a>\u001b[0m         ]\n\u001b[1;32m      <a href='vscode-notebook-cell://ssh-remote%2B101.101.216.52/opt/ml/input/level3_nlp_finalproject-nlp-07/summary_evaluate/prepare.ipynb#X13sdnNjb2RlLXJlbW90ZQ%3D%3D?line=7'>8</a>\u001b[0m     \u001b[39mreturn\u001b[39;00m t\n\u001b[0;32m---> <a href='vscode-notebook-cell://ssh-remote%2B101.101.216.52/opt/ml/input/level3_nlp_finalproject-nlp-07/summary_evaluate/prepare.ipynb#X13sdnNjb2RlLXJlbW90ZQ%3D%3D?line=9'>10</a>\u001b[0m \u001b[39mprint\u001b[39m(float_string2sec(result_df\u001b[39m.\u001b[39;49mloc[\u001b[39m0\u001b[39;49m, TIME]))\n",
      "\u001b[1;32m/opt/ml/input/level3_nlp_finalproject-nlp-07/summary_evaluate/prepare.ipynb Cell 11\u001b[0m in \u001b[0;36mfloat_string2sec\u001b[0;34m(t)\u001b[0m\n\u001b[1;32m      <a href='vscode-notebook-cell://ssh-remote%2B101.101.216.52/opt/ml/input/level3_nlp_finalproject-nlp-07/summary_evaluate/prepare.ipynb#X13sdnNjb2RlLXJlbW90ZQ%3D%3D?line=0'>1</a>\u001b[0m \u001b[39mdef\u001b[39;00m \u001b[39mfloat_string2sec\u001b[39m(t):\n\u001b[1;32m      <a href='vscode-notebook-cell://ssh-remote%2B101.101.216.52/opt/ml/input/level3_nlp_finalproject-nlp-07/summary_evaluate/prepare.ipynb#X13sdnNjb2RlLXJlbW90ZQ%3D%3D?line=1'>2</a>\u001b[0m     t \u001b[39m=\u001b[39m t[\u001b[39m1\u001b[39m:\u001b[39m-\u001b[39m\u001b[39m1\u001b[39m]\n\u001b[0;32m----> <a href='vscode-notebook-cell://ssh-remote%2B101.101.216.52/opt/ml/input/level3_nlp_finalproject-nlp-07/summary_evaluate/prepare.ipynb#X13sdnNjb2RlLXJlbW90ZQ%3D%3D?line=2'>3</a>\u001b[0m     t \u001b[39m=\u001b[39m [\n\u001b[1;32m      <a href='vscode-notebook-cell://ssh-remote%2B101.101.216.52/opt/ml/input/level3_nlp_finalproject-nlp-07/summary_evaluate/prepare.ipynb#X13sdnNjb2RlLXJlbW90ZQ%3D%3D?line=3'>4</a>\u001b[0m         \u001b[39mfloat\u001b[39m(tt)\n\u001b[1;32m      <a href='vscode-notebook-cell://ssh-remote%2B101.101.216.52/opt/ml/input/level3_nlp_finalproject-nlp-07/summary_evaluate/prepare.ipynb#X13sdnNjb2RlLXJlbW90ZQ%3D%3D?line=4'>5</a>\u001b[0m         \u001b[39mfor\u001b[39;00m tt \u001b[39min\u001b[39;00m t\u001b[39m.\u001b[39msplit(\u001b[39m\"\u001b[39m\u001b[39m,\u001b[39m\u001b[39m\"\u001b[39m)\n\u001b[1;32m      <a href='vscode-notebook-cell://ssh-remote%2B101.101.216.52/opt/ml/input/level3_nlp_finalproject-nlp-07/summary_evaluate/prepare.ipynb#X13sdnNjb2RlLXJlbW90ZQ%3D%3D?line=5'>6</a>\u001b[0m         ]\n\u001b[1;32m      <a href='vscode-notebook-cell://ssh-remote%2B101.101.216.52/opt/ml/input/level3_nlp_finalproject-nlp-07/summary_evaluate/prepare.ipynb#X13sdnNjb2RlLXJlbW90ZQ%3D%3D?line=7'>8</a>\u001b[0m     \u001b[39mreturn\u001b[39;00m t\n",
      "\u001b[1;32m/opt/ml/input/level3_nlp_finalproject-nlp-07/summary_evaluate/prepare.ipynb Cell 11\u001b[0m in \u001b[0;36m<listcomp>\u001b[0;34m(.0)\u001b[0m\n\u001b[1;32m      <a href='vscode-notebook-cell://ssh-remote%2B101.101.216.52/opt/ml/input/level3_nlp_finalproject-nlp-07/summary_evaluate/prepare.ipynb#X13sdnNjb2RlLXJlbW90ZQ%3D%3D?line=0'>1</a>\u001b[0m \u001b[39mdef\u001b[39;00m \u001b[39mfloat_string2sec\u001b[39m(t):\n\u001b[1;32m      <a href='vscode-notebook-cell://ssh-remote%2B101.101.216.52/opt/ml/input/level3_nlp_finalproject-nlp-07/summary_evaluate/prepare.ipynb#X13sdnNjb2RlLXJlbW90ZQ%3D%3D?line=1'>2</a>\u001b[0m     t \u001b[39m=\u001b[39m t[\u001b[39m1\u001b[39m:\u001b[39m-\u001b[39m\u001b[39m1\u001b[39m]\n\u001b[1;32m      <a href='vscode-notebook-cell://ssh-remote%2B101.101.216.52/opt/ml/input/level3_nlp_finalproject-nlp-07/summary_evaluate/prepare.ipynb#X13sdnNjb2RlLXJlbW90ZQ%3D%3D?line=2'>3</a>\u001b[0m     t \u001b[39m=\u001b[39m [\n\u001b[0;32m----> <a href='vscode-notebook-cell://ssh-remote%2B101.101.216.52/opt/ml/input/level3_nlp_finalproject-nlp-07/summary_evaluate/prepare.ipynb#X13sdnNjb2RlLXJlbW90ZQ%3D%3D?line=3'>4</a>\u001b[0m         \u001b[39mfloat\u001b[39;49m(tt)\n\u001b[1;32m      <a href='vscode-notebook-cell://ssh-remote%2B101.101.216.52/opt/ml/input/level3_nlp_finalproject-nlp-07/summary_evaluate/prepare.ipynb#X13sdnNjb2RlLXJlbW90ZQ%3D%3D?line=4'>5</a>\u001b[0m         \u001b[39mfor\u001b[39;00m tt \u001b[39min\u001b[39;00m t\u001b[39m.\u001b[39msplit(\u001b[39m\"\u001b[39m\u001b[39m,\u001b[39m\u001b[39m\"\u001b[39m)\n\u001b[1;32m      <a href='vscode-notebook-cell://ssh-remote%2B101.101.216.52/opt/ml/input/level3_nlp_finalproject-nlp-07/summary_evaluate/prepare.ipynb#X13sdnNjb2RlLXJlbW90ZQ%3D%3D?line=5'>6</a>\u001b[0m         ]\n\u001b[1;32m      <a href='vscode-notebook-cell://ssh-remote%2B101.101.216.52/opt/ml/input/level3_nlp_finalproject-nlp-07/summary_evaluate/prepare.ipynb#X13sdnNjb2RlLXJlbW90ZQ%3D%3D?line=7'>8</a>\u001b[0m     \u001b[39mreturn\u001b[39;00m t\n",
      "\u001b[0;31mValueError\u001b[0m: could not convert string to float: \"'0:00:07'\""
     ]
    }
   ],
   "source": [
    "def float_string2sec(t):\n",
    "    t = t[1:-1]\n",
    "    t = [\n",
    "        float(tt)\n",
    "        for tt in t.split(\",\")\n",
    "        ]\n",
    "    \n",
    "    return t\n",
    "\n",
    "print(float_string2sec(result_df.loc[0, TIME]))"
   ]
  },
  {
   "cell_type": "code",
   "execution_count": 11,
   "metadata": {},
   "outputs": [
    {
     "data": {
      "text/plain": [
       "('<가격> 가격도 착한데 쌀 품질도 좋', 35)"
      ]
     },
     "execution_count": 11,
     "metadata": {},
     "output_type": "execute_result"
    }
   ],
   "source": [
    "from utils.preprocess import clean_text\n",
    "\n",
    "preds, times = [], []\n",
    "\n",
    "for idx, item in result_df.iterrows():\n",
    "    output = clean_text(item[OUTPUT], remove_tag=False)\n",
    "    # output = string2output(item[OUTPUT])\n",
    "    preds.append(output)\n",
    "    \n",
    "    if TIME not in result_df.keys():\n",
    "        times.append(-1)\n",
    "    else:\n",
    "        time_list = string2sec(item[TIME])\n",
    "        # time_list = float_string2sec(item[TIME])\n",
    "        times.append(sum(time_list)) \n",
    "\n",
    "preds[0][:20], times[0]"
   ]
  },
  {
   "cell_type": "markdown",
   "metadata": {},
   "source": [
    "## 파일에 저장"
   ]
  },
  {
   "cell_type": "code",
   "execution_count": 12,
   "metadata": {},
   "outputs": [
    {
     "name": "stdout",
     "output_type": "stream",
     "text": [
      "/opt/ml/input/output/outout_T5_g256_ready.json\n"
     ]
    }
   ],
   "source": [
    "import json\n",
    "import os\n",
    "\n",
    "d = {\n",
    "    \"test_dataset\": test_dataset,\n",
    "    \"preds\": preds,\n",
    "    \"times\": times,\n",
    "    \"path\": RES_PATH\n",
    "}\n",
    "\n",
    "filename, _ = os.path.splitext(RES_PATH)\n",
    "READY_PATH = filename + \"_ready.json\"\n",
    "\n",
    "print(READY_PATH)\n",
    "\n",
    "with open(READY_PATH, \"w\", encoding=\"utf-8\") as f:\n",
    "    json.dump(d, f, ensure_ascii=False)"
   ]
  },
  {
   "cell_type": "markdown",
   "metadata": {},
   "source": [
    "# 평가하기"
   ]
  },
  {
   "cell_type": "code",
   "execution_count": null,
   "metadata": {},
   "outputs": [],
   "source": [
    "from transformers import AutoModel, AutoTokenizer\n",
    "\n",
    "SENT_MODEL = \"BM-K/KoSimCSE-roberta\"\n",
    "sentence_model = AutoModel.from_pretrained(SENT_MODEL)\n",
    "sentence_tokenizer = AutoTokenizer.from_pretrained(SENT_MODEL)"
   ]
  },
  {
   "cell_type": "code",
   "execution_count": 75,
   "metadata": {},
   "outputs": [
    {
     "name": "stderr",
     "output_type": "stream",
     "text": [
      "Evaluating: 100%|██████████| 50/50 [12:32<00:00, 15.05s/it]"
     ]
    },
    {
     "name": "stdout",
     "output_type": "stream",
     "text": [
      "File saved at:  /opt/ml/input/output/outout_T5_base4_scores_07260250.json\n"
     ]
    },
    {
     "name": "stderr",
     "output_type": "stream",
     "text": [
      "\n"
     ]
    }
   ],
   "source": [
    "import os\n",
    "\n",
    "from summary_evaluate import evaluate\n",
    "from summary_utils import save_evaluation\n",
    "\n",
    "dirname, filename = os.path.split(RES_PATH)\n",
    "filename, _ = os.path.splitext(filename)\n",
    "filename = filename + \"_scores\"\n",
    "\n",
    "eval_result = evaluate(\n",
    "    preds, test_dataset, sentence_model, sentence_tokenizer, times\n",
    ")\n",
    "\n",
    "\n",
    "save_evaluation(\n",
    "    eval_result,\n",
    "    dir_name=dirname, name=filename\n",
    "    )"
   ]
  },
  {
   "cell_type": "markdown",
   "metadata": {},
   "source": [
    "## 전체 길이"
   ]
  },
  {
   "cell_type": "code",
   "execution_count": 13,
   "metadata": {},
   "outputs": [
    {
     "name": "stdout",
     "output_type": "stream",
     "text": [
      "/opt/ml/input/output/outout_T5_g256_scores_07280017.json 177.5\n"
     ]
    }
   ],
   "source": [
    "import json\n",
    "\n",
    "FILES = [\n",
    "    \"/opt/ml/input/output/outout_T5_g256_scores_07280017.json\"    \n",
    "]\n",
    "\n",
    "length_score = []\n",
    "\n",
    "for path in FILES:\n",
    "    with open(path, \"r\") as f:\n",
    "        evaluation = json.load(f)\n",
    "        \n",
    "    length_diff = []\n",
    "    for item in evaluation[\"results\"]:\n",
    "        length_diff.append(item[\"length_diff\"])\n",
    "    length_score.append(sum(length_diff) / len(length_diff))\n",
    "\n",
    "    print(path, length_score[-1])"
   ]
  },
  {
   "cell_type": "code",
   "execution_count": 2,
   "metadata": {},
   "outputs": [
    {
     "name": "stdout",
     "output_type": "stream",
     "text": [
      "[239, 251, 201, 152, 250, 282, 222, 241, 321, 235, 205, 202, 344, 160, 215, 152, 185, 156, 126, 102, 308, 173, 241, 160, 188, 155, 117, 138, 126, 156, 184, 256, 146, 154, 126, 165, 213, 186, 254, 94, 214, 103, 77, 85, 68, 104, 59, 125, 265, 139]\n"
     ]
    }
   ],
   "source": [
    "print(length_diff)"
   ]
  }
 ],
 "metadata": {
  "kernelspec": {
   "display_name": "common",
   "language": "python",
   "name": "python3"
  },
  "language_info": {
   "codemirror_mode": {
    "name": "ipython",
    "version": 3
   },
   "file_extension": ".py",
   "mimetype": "text/x-python",
   "name": "python",
   "nbconvert_exporter": "python",
   "pygments_lexer": "ipython3",
   "version": "3.8.17"
  },
  "orig_nbformat": 4
 },
 "nbformat": 4,
 "nbformat_minor": 2
}
